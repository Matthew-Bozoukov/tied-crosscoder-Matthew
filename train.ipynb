{
 "cells": [
  {
   "cell_type": "code",
   "execution_count": null,
   "metadata": {},
   "outputs": [
    {
     "name": "stderr",
     "output_type": "stream",
     "text": [
      "\u001b[34m\u001b[1mwandb\u001b[0m: Using wandb-core as the SDK backend.  Please refer to https://wandb.me/wandb-core for more information.\n",
      "\u001b[34m\u001b[1mwandb\u001b[0m: \u001b[33mWARNING\u001b[0m If you're specifying your api key in code, ensure this code is not shared publicly.\n",
      "\u001b[34m\u001b[1mwandb\u001b[0m: \u001b[33mWARNING\u001b[0m Consider setting the WANDB_API_KEY environment variable, or running `wandb login` from the command line.\n",
      "WARNING:root:You tried to specify center_unembed=True for a model using logit softcap, but this can't be done! Softcapping is not invariant upon adding a constant Setting center_unembed=False instead.\n"
     ]
    },
    {
     "data": {
      "application/vnd.jupyter.widget-view+json": {
       "model_id": "cc1b6ba8009c4ce299909069a69a5460",
       "version_major": 2,
       "version_minor": 0
      },
      "text/plain": [
       "Loading checkpoint shards:   0%|          | 0/3 [00:00<?, ?it/s]"
      ]
     },
     "metadata": {},
     "output_type": "display_data"
    },
    {
     "name": "stderr",
     "output_type": "stream",
     "text": [
      "WARNING:root:You are not using LayerNorm, so the writing weights can't be centered! Skipping\n",
      "WARNING:root:You tried to specify center_unembed=True for a model using logit softcap, but this can't be done! Softcapping is not invariant upon adding a constant Setting center_unembed=False instead.\n"
     ]
    },
    {
     "name": "stdout",
     "output_type": "stream",
     "text": [
      "Loaded pretrained model gemma-2-2b into HookedTransformer\n"
     ]
    },
    {
     "data": {
      "application/vnd.jupyter.widget-view+json": {
       "model_id": "dd135db684cf4211a845054bad56362f",
       "version_major": 2,
       "version_minor": 0
      },
      "text/plain": [
       "Loading checkpoint shards:   0%|          | 0/2 [00:00<?, ?it/s]"
      ]
     },
     "metadata": {},
     "output_type": "display_data"
    },
    {
     "name": "stderr",
     "output_type": "stream",
     "text": [
      "WARNING:root:You are not using LayerNorm, so the writing weights can't be centered! Skipping\n"
     ]
    },
    {
     "name": "stdout",
     "output_type": "stream",
     "text": [
      "Loaded pretrained model gemma-2-2b-it into HookedTransformer\n"
     ]
    }
   ],
   "source": [
    "%load_ext autoreload\n",
    "%autoreload 2\n",
    "from utils import *\n",
    "from trainer import Trainer\n",
    "import wandb\n",
    "\n",
    "wandb.login(key=\"\")\n",
    "device = 'cuda:0'\n",
    "base_model = HookedTransformer.from_pretrained(\n",
    "    \"gemma-2-2b\", \n",
    "    device=device, \n",
    ")\n",
    "chat_model = HookedTransformer.from_pretrained(\n",
    "    \"gemma-2-2b-it\", \n",
    "    device=device, \n",
    ")"
   ]
  },
  {
   "cell_type": "code",
   "execution_count": null,
   "metadata": {},
   "outputs": [
    {
     "name": "stdout",
     "output_type": "stream",
     "text": [
      "In IPython - skipped argparse\n"
     ]
    },
    {
     "name": "stderr",
     "output_type": "stream",
     "text": [
      "Estimating norm scaling factor: 100%|██████████| 100/100 [01:50<00:00,  1.10s/it]\n",
      "Estimating norm scaling factor: 100%|██████████| 100/100 [01:50<00:00,  1.10s/it]\n"
     ]
    },
    {
     "name": "stdout",
     "output_type": "stream",
     "text": [
      "Refreshing the buffer!\n"
     ]
    },
    {
     "name": "stderr",
     "output_type": "stream",
     "text": [
      "100%|██████████| 128/128 [01:07<00:00,  1.89it/s]\n",
      "  0%|          | 1/97656 [00:00<16:01:27,  1.69it/s]"
     ]
    },
    {
     "name": "stdout",
     "output_type": "stream",
     "text": [
      "{'loss': 4415.9599609375, 'l2_loss': 4415.9599609375, 'l1_loss_shared': 117.69648742675781, 'l1_loss_exclusive': 117.69648742675781, 'l0_loss': 8219.013671875, 'l1_coeff': 0.0, 'lr': 5e-05, 'explained_variance': -0.43142274022102356, 'explained_variance_A': -0.4493238031864166, 'explained_variance_B': -0.4152432680130005}\n"
     ]
    },
    {
     "name": "stderr",
     "output_type": "stream",
     "text": [
      "  0%|          | 62/97656 [00:28<12:14:26,  2.21it/s]"
     ]
    },
    {
     "name": "stdout",
     "output_type": "stream",
     "text": [
      "Refreshing the buffer!\n"
     ]
    },
    {
     "name": "stderr",
     "output_type": "stream",
     "text": [
      "100%|██████████| 64/64 [00:11<00:00,  5.69it/s]\n",
      "  0%|          | 101/97656 [00:57<12:15:03,  2.21it/s]"
     ]
    },
    {
     "name": "stdout",
     "output_type": "stream",
     "text": [
      "{'loss': 908.530029296875, 'l2_loss': 744.1483154296875, 'l1_loss_shared': 1519.455078125, 'l1_loss_exclusive': 1246.879638671875, 'l0_loss': 14961.8515625, 'l1_coeff': 0.04096010485786843, 'lr': 5e-05, 'explained_variance': 0.7393172979354858, 'explained_variance_A': 0.739764392375946, 'explained_variance_B': 0.7390967607498169}\n"
     ]
    },
    {
     "name": "stderr",
     "output_type": "stream",
     "text": [
      "  0%|          | 125/97656 [01:07<12:14:13,  2.21it/s]"
     ]
    },
    {
     "name": "stdout",
     "output_type": "stream",
     "text": [
      "Refreshing the buffer!\n"
     ]
    },
    {
     "name": "stderr",
     "output_type": "stream",
     "text": [
      "100%|██████████| 64/64 [00:11<00:00,  5.65it/s]\n",
      "  0%|          | 188/97656 [01:47<12:13:07,  2.22it/s] "
     ]
    },
    {
     "name": "stdout",
     "output_type": "stream",
     "text": [
      "Refreshing the buffer!\n"
     ]
    },
    {
     "name": "stderr",
     "output_type": "stream",
     "text": [
      "100%|██████████| 64/64 [00:11<00:00,  5.68it/s]\n",
      "  0%|          | 201/97656 [02:04<13:27:58,  2.01it/s] "
     ]
    },
    {
     "name": "stdout",
     "output_type": "stream",
     "text": [
      "{'loss': 680.02001953125, 'l2_loss': 398.68682861328125, 'l1_loss_shared': 1560.83935546875, 'l1_loss_exclusive': 936.6976318359375, 'l0_loss': 12699.2373046875, 'l1_coeff': 0.08192020971573687, 'lr': 5e-05, 'explained_variance': 0.8603698015213013, 'explained_variance_A': 0.8605689406394958, 'explained_variance_B': 0.8602210283279419}\n"
     ]
    },
    {
     "name": "stderr",
     "output_type": "stream",
     "text": [
      "  0%|          | 251/97656 [02:27<12:10:28,  2.22it/s]"
     ]
    },
    {
     "name": "stdout",
     "output_type": "stream",
     "text": [
      "Refreshing the buffer!\n"
     ]
    },
    {
     "name": "stderr",
     "output_type": "stream",
     "text": [
      "100%|██████████| 64/64 [00:11<00:00,  5.71it/s]\n",
      "  0%|          | 301/97656 [03:01<12:10:38,  2.22it/s] "
     ]
    },
    {
     "name": "stdout",
     "output_type": "stream",
     "text": [
      "{'loss': 635.6148681640625, 'l2_loss': 292.7689208984375, 'l1_loss_shared': 1506.124267578125, 'l1_loss_exclusive': 641.9778442382812, 'l0_loss': 10039.701171875, 'l1_coeff': 0.1228803145736053, 'lr': 5e-05, 'explained_variance': 0.896562933921814, 'explained_variance_A': 0.8971459865570068, 'explained_variance_B': 0.8960758447647095}\n"
     ]
    },
    {
     "name": "stderr",
     "output_type": "stream",
     "text": [
      "  0%|          | 314/97656 [03:06<12:09:56,  2.22it/s]"
     ]
    },
    {
     "name": "stdout",
     "output_type": "stream",
     "text": [
      "Refreshing the buffer!\n"
     ]
    },
    {
     "name": "stderr",
     "output_type": "stream",
     "text": [
      "100%|██████████| 64/64 [00:11<00:00,  5.69it/s]\n",
      "  0%|          | 377/97656 [03:46<12:09:40,  2.22it/s] "
     ]
    },
    {
     "name": "stdout",
     "output_type": "stream",
     "text": [
      "Refreshing the buffer!\n"
     ]
    },
    {
     "name": "stderr",
     "output_type": "stream",
     "text": [
      "100%|██████████| 64/64 [00:11<00:00,  5.68it/s]\n",
      "  0%|          | 401/97656 [04:08<12:11:27,  2.22it/s] "
     ]
    },
    {
     "name": "stdout",
     "output_type": "stream",
     "text": [
      "{'loss': 636.2657470703125, 'l2_loss': 260.7364501953125, 'l1_loss_shared': 1465.605712890625, 'l1_loss_exclusive': 413.2187194824219, 'l0_loss': 7641.3671875, 'l1_coeff': 0.16384041943147373, 'lr': 5e-05, 'explained_variance': 0.9071605801582336, 'explained_variance_A': 0.9080212116241455, 'explained_variance_B': 0.9062033891677856}\n"
     ]
    },
    {
     "name": "stderr",
     "output_type": "stream",
     "text": [
      "  0%|          | 440/97656 [04:26<12:08:58,  2.22it/s]"
     ]
    },
    {
     "name": "stdout",
     "output_type": "stream",
     "text": [
      "Refreshing the buffer!\n"
     ]
    },
    {
     "name": "stderr",
     "output_type": "stream",
     "text": [
      "100%|██████████| 64/64 [00:11<00:00,  5.70it/s]\n",
      "  1%|          | 501/97656 [05:05<12:09:05,  2.22it/s] "
     ]
    },
    {
     "name": "stdout",
     "output_type": "stream",
     "text": [
      "{'loss': 653.22607421875, 'l2_loss': 255.61245727539062, 'l1_loss_shared': 1438.0926513671875, 'l1_loss_exclusive': 251.68756103515625, 'l0_loss': 5701.5078125, 'l1_coeff': 0.20480052428934217, 'lr': 5e-05, 'explained_variance': 0.9093667268753052, 'explained_variance_A': 0.9102966785430908, 'explained_variance_B': 0.9082423448562622}\n"
     ]
    },
    {
     "name": "stderr",
     "output_type": "stream",
     "text": [
      "  1%|          | 503/97656 [05:05<12:08:50,  2.22it/s]"
     ]
    },
    {
     "name": "stdout",
     "output_type": "stream",
     "text": [
      "Refreshing the buffer!\n"
     ]
    },
    {
     "name": "stderr",
     "output_type": "stream",
     "text": [
      "100%|██████████| 64/64 [00:11<00:00,  5.70it/s]\n",
      "  1%|          | 566/97656 [05:45<12:07:57,  2.22it/s] "
     ]
    },
    {
     "name": "stdout",
     "output_type": "stream",
     "text": [
      "Refreshing the buffer!\n"
     ]
    },
    {
     "name": "stderr",
     "output_type": "stream",
     "text": [
      "100%|██████████| 64/64 [00:11<00:00,  5.74it/s]\n",
      "  1%|          | 601/97656 [06:12<12:08:44,  2.22it/s] "
     ]
    },
    {
     "name": "stdout",
     "output_type": "stream",
     "text": [
      "{'loss': 667.5161743164062, 'l2_loss': 260.36053466796875, 'l1_loss_shared': 1366.5157470703125, 'l1_loss_exclusive': 145.1002655029297, 'l0_loss': 4239.2783203125, 'l1_coeff': 0.2457606291472106, 'lr': 5e-05, 'explained_variance': 0.9070535898208618, 'explained_variance_A': 0.90776526927948, 'explained_variance_B': 0.9061230421066284}\n"
     ]
    },
    {
     "name": "stderr",
     "output_type": "stream",
     "text": [
      "  1%|          | 629/97656 [06:25<12:08:32,  2.22it/s]"
     ]
    },
    {
     "name": "stdout",
     "output_type": "stream",
     "text": [
      "Refreshing the buffer!\n"
     ]
    },
    {
     "name": "stderr",
     "output_type": "stream",
     "text": [
      "100%|██████████| 64/64 [00:11<00:00,  5.72it/s]\n",
      "  1%|          | 692/97656 [07:04<12:07:06,  2.22it/s] "
     ]
    },
    {
     "name": "stdout",
     "output_type": "stream",
     "text": [
      "Refreshing the buffer!\n"
     ]
    },
    {
     "name": "stderr",
     "output_type": "stream",
     "text": [
      "100%|██████████| 64/64 [00:11<00:00,  5.67it/s]\n",
      "  1%|          | 701/97656 [07:20<17:25:08,  1.55it/s] "
     ]
    },
    {
     "name": "stdout",
     "output_type": "stream",
     "text": [
      "{'loss': 688.9481811523438, 'l2_loss': 268.95147705078125, 'l1_loss_shared': 1293.66748046875, 'l1_loss_exclusive': 85.58052062988281, 'l0_loss': 3235.299560546875, 'l1_coeff': 0.286720734005079, 'lr': 5e-05, 'explained_variance': 0.9036403894424438, 'explained_variance_A': 0.9044773578643799, 'explained_variance_B': 0.9026545286178589}\n"
     ]
    },
    {
     "name": "stderr",
     "output_type": "stream",
     "text": [
      "  1%|          | 755/97656 [07:44<12:06:42,  2.22it/s]"
     ]
    },
    {
     "name": "stdout",
     "output_type": "stream",
     "text": [
      "Refreshing the buffer!\n"
     ]
    },
    {
     "name": "stderr",
     "output_type": "stream",
     "text": [
      "100%|██████████| 64/64 [00:11<00:00,  5.70it/s]\n",
      "  1%|          | 801/97656 [08:16<12:06:59,  2.22it/s] "
     ]
    },
    {
     "name": "stdout",
     "output_type": "stream",
     "text": [
      "{'loss': 715.4525756835938, 'l2_loss': 286.26776123046875, 'l1_loss_shared': 1200.21337890625, 'l1_loss_exclusive': 54.77567672729492, 'l0_loss': 2569.49755859375, 'l1_coeff': 0.32768083886294747, 'lr': 5e-05, 'explained_variance': 0.8968532085418701, 'explained_variance_A': 0.8975611329078674, 'explained_variance_B': 0.896011233329773}\n"
     ]
    },
    {
     "name": "stderr",
     "output_type": "stream",
     "text": [
      "  1%|          | 818/97656 [08:24<12:06:26,  2.22it/s]"
     ]
    },
    {
     "name": "stdout",
     "output_type": "stream",
     "text": [
      "Refreshing the buffer!\n"
     ]
    },
    {
     "name": "stderr",
     "output_type": "stream",
     "text": [
      "100%|██████████| 64/64 [00:11<00:00,  5.70it/s]\n",
      "  1%|          | 881/97656 [09:03<12:05:58,  2.22it/s] "
     ]
    },
    {
     "name": "stdout",
     "output_type": "stream",
     "text": [
      "Refreshing the buffer!\n"
     ]
    },
    {
     "name": "stderr",
     "output_type": "stream",
     "text": [
      "100%|██████████| 64/64 [00:11<00:00,  5.65it/s]\n",
      "  1%|          | 901/97656 [09:24<12:12:46,  2.20it/s] "
     ]
    },
    {
     "name": "stdout",
     "output_type": "stream",
     "text": [
      "{'loss': 739.7938842773438, 'l2_loss': 301.8883361816406, 'l1_loss_shared': 1110.28564453125, 'l1_loss_exclusive': 38.80309295654297, 'l0_loss': 2119.35888671875, 'l1_coeff': 0.3686409437208159, 'lr': 5e-05, 'explained_variance': 0.8916649222373962, 'explained_variance_A': 0.8920730948448181, 'explained_variance_B': 0.8912023305892944}\n"
     ]
    },
    {
     "name": "stderr",
     "output_type": "stream",
     "text": [
      "  1%|          | 944/97656 [09:43<12:05:36,  2.22it/s]"
     ]
    },
    {
     "name": "stdout",
     "output_type": "stream",
     "text": [
      "Refreshing the buffer!\n"
     ]
    },
    {
     "name": "stderr",
     "output_type": "stream",
     "text": [
      "100%|██████████| 64/64 [00:11<00:00,  5.71it/s]\n",
      "  1%|          | 1001/97656 [10:20<12:05:36,  2.22it/s]"
     ]
    },
    {
     "name": "stdout",
     "output_type": "stream",
     "text": [
      "{'loss': 767.8104858398438, 'l2_loss': 321.28302001953125, 'l1_loss_shared': 1033.36328125, 'l1_loss_exclusive': 28.394453048706055, 'l0_loss': 1781.5999755859375, 'l1_coeff': 0.40960104857868435, 'lr': 5e-05, 'explained_variance': 0.8844753503799438, 'explained_variance_A': 0.8850240707397461, 'explained_variance_B': 0.883918046951294}\n"
     ]
    },
    {
     "name": "stderr",
     "output_type": "stream",
     "text": [
      "  1%|          | 1007/97656 [10:23<12:05:12,  2.22it/s]"
     ]
    },
    {
     "name": "stdout",
     "output_type": "stream",
     "text": [
      "Refreshing the buffer!\n"
     ]
    },
    {
     "name": "stderr",
     "output_type": "stream",
     "text": [
      "100%|██████████| 64/64 [00:11<00:00,  5.72it/s]\n",
      "  1%|          | 1070/97656 [11:02<12:04:14,  2.22it/s] "
     ]
    },
    {
     "name": "stdout",
     "output_type": "stream",
     "text": [
      "Refreshing the buffer!\n"
     ]
    },
    {
     "name": "stderr",
     "output_type": "stream",
     "text": [
      "100%|██████████| 64/64 [00:11<00:00,  5.68it/s]\n",
      "  1%|          | 1101/97656 [11:28<12:04:48,  2.22it/s] "
     ]
    },
    {
     "name": "stdout",
     "output_type": "stream",
     "text": [
      "{'loss': 790.549560546875, 'l2_loss': 336.49139404296875, 'l1_loss_shared': 961.709716796875, 'l1_loss_exclusive': 23.02589988708496, 'l0_loss': 1541.1053466796875, 'l1_coeff': 0.4505611534365528, 'lr': 5e-05, 'explained_variance': 0.8788430690765381, 'explained_variance_A': 0.8797596096992493, 'explained_variance_B': 0.8779296875}\n"
     ]
    },
    {
     "name": "stderr",
     "output_type": "stream",
     "text": [
      "  1%|          | 1133/97656 [11:42<12:03:56,  2.22it/s]"
     ]
    },
    {
     "name": "stdout",
     "output_type": "stream",
     "text": [
      "Refreshing the buffer!\n"
     ]
    },
    {
     "name": "stderr",
     "output_type": "stream",
     "text": [
      "100%|██████████| 64/64 [00:11<00:00,  5.69it/s]\n",
      "  1%|          | 1196/97656 [12:22<12:03:26,  2.22it/s] "
     ]
    },
    {
     "name": "stdout",
     "output_type": "stream",
     "text": [
      "Refreshing the buffer!\n"
     ]
    },
    {
     "name": "stderr",
     "output_type": "stream",
     "text": [
      "100%|██████████| 64/64 [00:11<00:00,  5.71it/s]\n",
      "  1%|          | 1201/97656 [12:35<33:52:07,  1.26s/it] "
     ]
    },
    {
     "name": "stdout",
     "output_type": "stream",
     "text": [
      "{'loss': 813.6423950195312, 'l2_loss': 353.2458190917969, 'l1_loss_shared': 896.9715576171875, 'l1_loss_exclusive': 19.852630615234375, 'l0_loss': 1345.8551025390625, 'l1_coeff': 0.4915212582944212, 'lr': 5e-05, 'explained_variance': 0.8729533553123474, 'explained_variance_A': 0.8737188577651978, 'explained_variance_B': 0.8721234798431396}\n"
     ]
    },
    {
     "name": "stderr",
     "output_type": "stream",
     "text": [
      "  1%|▏         | 1259/97656 [13:01<12:03:01,  2.22it/s]"
     ]
    },
    {
     "name": "stdout",
     "output_type": "stream",
     "text": [
      "Refreshing the buffer!\n"
     ]
    },
    {
     "name": "stderr",
     "output_type": "stream",
     "text": [
      "100%|██████████| 64/64 [00:11<00:00,  5.70it/s]\n",
      "  1%|▏         | 1301/97656 [13:32<12:03:11,  2.22it/s] "
     ]
    },
    {
     "name": "stdout",
     "output_type": "stream",
     "text": [
      "{'loss': 840.0281372070312, 'l2_loss': 371.7910461425781, 'l1_loss_shared': 846.2249755859375, 'l1_loss_exclusive': 16.562137603759766, 'l0_loss': 1186.60693359375, 'l1_coeff': 0.5324813631522897, 'lr': 5e-05, 'explained_variance': 0.8673450350761414, 'explained_variance_A': 0.867851197719574, 'explained_variance_B': 0.8668712377548218}\n"
     ]
    },
    {
     "name": "stderr",
     "output_type": "stream",
     "text": [
      "  1%|▏         | 1322/97656 [13:41<12:02:22,  2.22it/s]"
     ]
    },
    {
     "name": "stdout",
     "output_type": "stream",
     "text": [
      "Refreshing the buffer!\n"
     ]
    },
    {
     "name": "stderr",
     "output_type": "stream",
     "text": [
      "100%|██████████| 64/64 [00:11<00:00,  5.73it/s]\n",
      "  1%|▏         | 1385/97656 [14:21<12:02:04,  2.22it/s] "
     ]
    },
    {
     "name": "stdout",
     "output_type": "stream",
     "text": [
      "Refreshing the buffer!\n"
     ]
    },
    {
     "name": "stderr",
     "output_type": "stream",
     "text": [
      "100%|██████████| 64/64 [00:11<00:00,  5.72it/s]\n",
      "  1%|▏         | 1401/97656 [14:39<12:28:09,  2.14it/s] "
     ]
    },
    {
     "name": "stdout",
     "output_type": "stream",
     "text": [
      "{'loss': 860.690185546875, 'l2_loss': 388.21771240234375, 'l1_loss_shared': 793.6046142578125, 'l1_loss_exclusive': 15.1599702835083, 'l0_loss': 1061.97412109375, 'l1_coeff': 0.573441468010158, 'lr': 5e-05, 'explained_variance': 0.8613572120666504, 'explained_variance_A': 0.8621892929077148, 'explained_variance_B': 0.8604615330696106}\n"
     ]
    },
    {
     "name": "stderr",
     "output_type": "stream",
     "text": [
      "  1%|▏         | 1448/97656 [15:00<12:01:29,  2.22it/s]"
     ]
    },
    {
     "name": "stdout",
     "output_type": "stream",
     "text": [
      "Refreshing the buffer!\n"
     ]
    },
    {
     "name": "stderr",
     "output_type": "stream",
     "text": [
      "100%|██████████| 64/64 [00:11<00:00,  5.68it/s]\n",
      "  2%|▏         | 1501/97656 [15:35<12:01:41,  2.22it/s] "
     ]
    },
    {
     "name": "stdout",
     "output_type": "stream",
     "text": [
      "{'loss': 880.7203979492188, 'l2_loss': 407.2742614746094, 'l1_loss_shared': 744.4483642578125, 'l1_loss_exclusive': 13.066230773925781, 'l0_loss': 950.535400390625, 'l1_coeff': 0.6144015728680265, 'lr': 5e-05, 'explained_variance': 0.8540866374969482, 'explained_variance_A': 0.8545903563499451, 'explained_variance_B': 0.8535705804824829}\n"
     ]
    },
    {
     "name": "stderr",
     "output_type": "stream",
     "text": [
      "  2%|▏         | 1511/97656 [15:40<12:01:07,  2.22it/s]"
     ]
    },
    {
     "name": "stdout",
     "output_type": "stream",
     "text": [
      "Refreshing the buffer!\n"
     ]
    },
    {
     "name": "stderr",
     "output_type": "stream",
     "text": [
      "100%|██████████| 64/64 [00:11<00:00,  5.72it/s]\n",
      "  2%|▏         | 1574/97656 [16:19<12:00:39,  2.22it/s] "
     ]
    },
    {
     "name": "stdout",
     "output_type": "stream",
     "text": [
      "Refreshing the buffer!\n"
     ]
    },
    {
     "name": "stderr",
     "output_type": "stream",
     "text": [
      "100%|██████████| 64/64 [00:11<00:00,  5.69it/s]\n",
      "  2%|▏         | 1601/97656 [16:43<12:01:49,  2.22it/s] "
     ]
    },
    {
     "name": "stdout",
     "output_type": "stream",
     "text": [
      "{'loss': 903.7392578125, 'l2_loss': 424.7657775878906, 'l1_loss_shared': 706.7257080078125, 'l1_loss_exclusive': 12.06398868560791, 'l0_loss': 859.0568237304688, 'l1_coeff': 0.6553616777258949, 'lr': 5e-05, 'explained_variance': 0.8486984968185425, 'explained_variance_A': 0.8493307828903198, 'explained_variance_B': 0.848035991191864}\n"
     ]
    },
    {
     "name": "stderr",
     "output_type": "stream",
     "text": [
      "  2%|▏         | 1637/97656 [16:59<12:00:08,  2.22it/s]"
     ]
    },
    {
     "name": "stdout",
     "output_type": "stream",
     "text": [
      "Refreshing the buffer!\n"
     ]
    },
    {
     "name": "stderr",
     "output_type": "stream",
     "text": [
      "100%|██████████| 64/64 [00:11<00:00,  5.66it/s]\n",
      "  2%|▏         | 1700/97656 [17:39<11:59:41,  2.22it/s] "
     ]
    },
    {
     "name": "stdout",
     "output_type": "stream",
     "text": [
      "Refreshing the buffer!\n"
     ]
    },
    {
     "name": "stderr",
     "output_type": "stream",
     "text": [
      "100%|██████████| 64/64 [00:11<00:00,  5.70it/s]\n",
      "  2%|▏         | 1701/97656 [17:51<102:13:20,  3.84s/it]"
     ]
    },
    {
     "name": "stdout",
     "output_type": "stream",
     "text": [
      "{'loss': 923.6889038085938, 'l2_loss': 443.6928405761719, 'l1_loss_shared': 666.8211059570312, 'l1_loss_exclusive': 11.2548828125, 'l0_loss': 778.8788452148438, 'l1_coeff': 0.6963217825837634, 'lr': 5e-05, 'explained_variance': 0.8420681953430176, 'explained_variance_A': 0.8428360223770142, 'explained_variance_B': 0.8413187265396118}\n"
     ]
    },
    {
     "name": "stderr",
     "output_type": "stream",
     "text": [
      "  2%|▏         | 1763/97656 [18:19<11:59:14,  2.22it/s] "
     ]
    },
    {
     "name": "stdout",
     "output_type": "stream",
     "text": [
      "Refreshing the buffer!\n"
     ]
    },
    {
     "name": "stderr",
     "output_type": "stream",
     "text": [
      "100%|██████████| 64/64 [00:11<00:00,  5.70it/s]\n",
      "  2%|▏         | 1801/97656 [18:47<11:59:26,  2.22it/s] "
     ]
    },
    {
     "name": "stdout",
     "output_type": "stream",
     "text": [
      "{'loss': 937.7274780273438, 'l2_loss': 456.39752197265625, 'l1_loss_shared': 631.3482666015625, 'l1_loss_exclusive': 10.747800827026367, 'l0_loss': 708.1495361328125, 'l1_coeff': 0.7372818874416318, 'lr': 5e-05, 'explained_variance': 0.8368391394615173, 'explained_variance_A': 0.8376907110214233, 'explained_variance_B': 0.8359397649765015}\n"
     ]
    },
    {
     "name": "stderr",
     "output_type": "stream",
     "text": [
      "  2%|▏         | 1826/97656 [18:58<11:58:35,  2.22it/s]"
     ]
    },
    {
     "name": "stdout",
     "output_type": "stream",
     "text": [
      "Refreshing the buffer!\n"
     ]
    },
    {
     "name": "stderr",
     "output_type": "stream",
     "text": [
      "100%|██████████| 64/64 [00:11<00:00,  5.67it/s]\n",
      "  2%|▏         | 1889/97656 [19:38<11:58:12,  2.22it/s] "
     ]
    },
    {
     "name": "stdout",
     "output_type": "stream",
     "text": [
      "Refreshing the buffer!\n"
     ]
    },
    {
     "name": "stderr",
     "output_type": "stream",
     "text": [
      "100%|██████████| 64/64 [00:11<00:00,  5.74it/s]\n",
      "  2%|▏         | 1901/97656 [19:55<13:44:53,  1.93it/s] "
     ]
    },
    {
     "name": "stdout",
     "output_type": "stream",
     "text": [
      "{'loss': 949.8631591796875, 'l2_loss': 467.26702880859375, 'l1_loss_shared': 600.5614013671875, 'l1_loss_exclusive': 9.7746000289917, 'l0_loss': 643.8245849609375, 'l1_coeff': 0.7782419922995003, 'lr': 5e-05, 'explained_variance': 0.8335747718811035, 'explained_variance_A': 0.8345514535903931, 'explained_variance_B': 0.8326437473297119}\n"
     ]
    },
    {
     "name": "stderr",
     "output_type": "stream",
     "text": [
      "  2%|▏         | 1952/97656 [20:17<11:57:51,  2.22it/s]"
     ]
    },
    {
     "name": "stdout",
     "output_type": "stream",
     "text": [
      "Refreshing the buffer!\n"
     ]
    },
    {
     "name": "stderr",
     "output_type": "stream",
     "text": [
      "100%|██████████| 64/64 [00:11<00:00,  5.71it/s]\n",
      "  2%|▏         | 2001/97656 [20:51<11:57:54,  2.22it/s] "
     ]
    },
    {
     "name": "stdout",
     "output_type": "stream",
     "text": [
      "{'loss': 969.0802612304688, 'l2_loss': 486.8019104003906, 'l1_loss_shared': 570.9202270507812, 'l1_loss_exclusive': 8.898467063903809, 'l0_loss': 589.47412109375, 'l1_coeff': 0.8192020971573687, 'lr': 5e-05, 'explained_variance': 0.8266466856002808, 'explained_variance_A': 0.8279292583465576, 'explained_variance_B': 0.8254345059394836}\n"
     ]
    },
    {
     "name": "stderr",
     "output_type": "stream",
     "text": [
      "  2%|▏         | 2015/97656 [20:57<11:57:26,  2.22it/s]"
     ]
    },
    {
     "name": "stdout",
     "output_type": "stream",
     "text": [
      "Refreshing the buffer!\n"
     ]
    },
    {
     "name": "stderr",
     "output_type": "stream",
     "text": [
      "100%|██████████| 64/64 [00:11<00:00,  5.68it/s]\n",
      "  2%|▏         | 2078/97656 [21:37<11:56:54,  2.22it/s] "
     ]
    },
    {
     "name": "stdout",
     "output_type": "stream",
     "text": [
      "Refreshing the buffer!\n"
     ]
    },
    {
     "name": "stderr",
     "output_type": "stream",
     "text": [
      "100%|██████████| 64/64 [00:11<00:00,  5.72it/s]\n",
      "  2%|▏         | 2101/97656 [21:58<11:59:20,  2.21it/s] "
     ]
    },
    {
     "name": "stdout",
     "output_type": "stream",
     "text": [
      "{'loss': 975.77734375, 'l2_loss': 494.119384765625, 'l1_loss_shared': 543.36376953125, 'l1_loss_exclusive': 8.298985481262207, 'l0_loss': 539.4344482421875, 'l1_coeff': 0.8601622020152371, 'lr': 5e-05, 'explained_variance': 0.8233904838562012, 'explained_variance_A': 0.8243376612663269, 'explained_variance_B': 0.8225493431091309}\n"
     ]
    },
    {
     "name": "stderr",
     "output_type": "stream",
     "text": [
      "  2%|▏         | 2141/97656 [22:16<11:56:27,  2.22it/s]"
     ]
    },
    {
     "name": "stdout",
     "output_type": "stream",
     "text": [
      "Refreshing the buffer!\n"
     ]
    },
    {
     "name": "stderr",
     "output_type": "stream",
     "text": [
      "100%|██████████| 64/64 [00:11<00:00,  5.72it/s]\n",
      "  2%|▏         | 2201/97656 [22:55<11:56:29,  2.22it/s] "
     ]
    },
    {
     "name": "stdout",
     "output_type": "stream",
     "text": [
      "{'loss': 994.7340087890625, 'l2_loss': 511.88824462890625, 'l1_loss_shared': 519.819580078125, 'l1_loss_exclusive': 8.00376033782959, 'l0_loss': 497.15771484375, 'l1_coeff': 0.9011223068731056, 'lr': 5e-05, 'explained_variance': 0.8179589509963989, 'explained_variance_A': 0.8188623189926147, 'explained_variance_B': 0.8170555830001831}\n"
     ]
    },
    {
     "name": "stderr",
     "output_type": "stream",
     "text": [
      "  2%|▏         | 2204/97656 [22:56<11:56:06,  2.22it/s]"
     ]
    },
    {
     "name": "stdout",
     "output_type": "stream",
     "text": [
      "Refreshing the buffer!\n"
     ]
    },
    {
     "name": "stderr",
     "output_type": "stream",
     "text": [
      "100%|██████████| 64/64 [00:11<00:00,  5.68it/s]\n",
      "  2%|▏         | 2267/97656 [23:36<11:55:28,  2.22it/s] "
     ]
    },
    {
     "name": "stdout",
     "output_type": "stream",
     "text": [
      "Refreshing the buffer!\n"
     ]
    },
    {
     "name": "stderr",
     "output_type": "stream",
     "text": [
      "100%|██████████| 64/64 [00:11<00:00,  5.75it/s]\n",
      "  2%|▏         | 2301/97656 [24:02<11:55:45,  2.22it/s] "
     ]
    },
    {
     "name": "stdout",
     "output_type": "stream",
     "text": [
      "{'loss': 1011.990478515625, 'l2_loss': 527.2237548828125, 'l1_loss_shared': 499.0464782714844, 'l1_loss_exclusive': 7.76140832901001, 'l0_loss': 460.239013671875, 'l1_coeff': 0.942082411730974, 'lr': 5e-05, 'explained_variance': 0.8127341270446777, 'explained_variance_A': 0.8136520385742188, 'explained_variance_B': 0.811890721321106}\n"
     ]
    },
    {
     "name": "stderr",
     "output_type": "stream",
     "text": [
      "  2%|▏         | 2330/97656 [24:15<11:55:13,  2.22it/s]"
     ]
    },
    {
     "name": "stdout",
     "output_type": "stream",
     "text": [
      "Refreshing the buffer!\n"
     ]
    },
    {
     "name": "stderr",
     "output_type": "stream",
     "text": [
      "100%|██████████| 64/64 [00:11<00:00,  5.69it/s]\n",
      "  2%|▏         | 2393/97656 [24:55<11:54:34,  2.22it/s] "
     ]
    },
    {
     "name": "stdout",
     "output_type": "stream",
     "text": [
      "Refreshing the buffer!\n"
     ]
    },
    {
     "name": "stderr",
     "output_type": "stream",
     "text": [
      "100%|██████████| 64/64 [00:11<00:00,  5.69it/s]\n",
      "  2%|▏         | 2401/97656 [25:10<19:19:35,  1.37it/s] "
     ]
    },
    {
     "name": "stdout",
     "output_type": "stream",
     "text": [
      "{'loss': 1014.0809326171875, 'l2_loss': 532.460693359375, 'l1_loss_shared': 474.7061767578125, 'l1_loss_exclusive': 7.611005783081055, 'l0_loss': 422.33392333984375, 'l1_coeff': 0.9830425165888425, 'lr': 5e-05, 'explained_variance': 0.8099037408828735, 'explained_variance_A': 0.8110113143920898, 'explained_variance_B': 0.8086904287338257}\n"
     ]
    },
    {
     "name": "stderr",
     "output_type": "stream",
     "text": [
      "  3%|▎         | 2456/97656 [25:35<11:53:58,  2.22it/s]"
     ]
    },
    {
     "name": "stdout",
     "output_type": "stream",
     "text": [
      "Refreshing the buffer!\n"
     ]
    },
    {
     "name": "stderr",
     "output_type": "stream",
     "text": [
      "100%|██████████| 64/64 [00:11<00:00,  5.72it/s]\n",
      "  3%|▎         | 2501/97656 [26:06<11:54:11,  2.22it/s] "
     ]
    },
    {
     "name": "stdout",
     "output_type": "stream",
     "text": [
      "{'loss': 1023.77783203125, 'l2_loss': 545.2037353515625, 'l1_loss_shared': 453.00408935546875, 'l1_loss_exclusive': 7.17607307434082, 'l0_loss': 390.1819763183594, 'l1_coeff': 1.0240026214467108, 'lr': 5e-05, 'explained_variance': 0.8051619529724121, 'explained_variance_A': 0.8060411810874939, 'explained_variance_B': 0.8041104674339294}\n"
     ]
    },
    {
     "name": "stderr",
     "output_type": "stream",
     "text": [
      "  3%|▎         | 2519/97656 [26:14<11:53:45,  2.22it/s]"
     ]
    },
    {
     "name": "stdout",
     "output_type": "stream",
     "text": [
      "Refreshing the buffer!\n"
     ]
    },
    {
     "name": "stderr",
     "output_type": "stream",
     "text": [
      "100%|██████████| 64/64 [00:11<00:00,  5.70it/s]\n",
      "  3%|▎         | 2582/97656 [26:54<11:53:49,  2.22it/s] "
     ]
    },
    {
     "name": "stdout",
     "output_type": "stream",
     "text": [
      "Refreshing the buffer!\n"
     ]
    },
    {
     "name": "stderr",
     "output_type": "stream",
     "text": [
      "100%|██████████| 64/64 [00:11<00:00,  5.70it/s]\n",
      "  3%|▎         | 2601/97656 [27:14<12:02:10,  2.19it/s] "
     ]
    },
    {
     "name": "stdout",
     "output_type": "stream",
     "text": [
      "{'loss': 1037.4046630859375, 'l2_loss': 557.1638793945312, 'l1_loss_shared': 437.138427734375, 'l1_loss_exclusive': 6.903826713562012, 'l0_loss': 361.7557067871094, 'l1_coeff': 1.0649627263045793, 'lr': 5e-05, 'explained_variance': 0.8021243214607239, 'explained_variance_A': 0.8032548427581787, 'explained_variance_B': 0.8008496761322021}\n"
     ]
    },
    {
     "name": "stderr",
     "output_type": "stream",
     "text": [
      "  3%|▎         | 2645/97656 [27:33<11:52:33,  2.22it/s]"
     ]
    },
    {
     "name": "stdout",
     "output_type": "stream",
     "text": [
      "Refreshing the buffer!\n"
     ]
    },
    {
     "name": "stderr",
     "output_type": "stream",
     "text": [
      "100%|██████████| 64/64 [00:11<00:00,  5.68it/s]\n",
      "  3%|▎         | 2701/97656 [28:10<11:52:42,  2.22it/s] "
     ]
    },
    {
     "name": "stdout",
     "output_type": "stream",
     "text": [
      "{'loss': 1041.2020263671875, 'l2_loss': 564.9019165039062, 'l1_loss_shared': 418.47723388671875, 'l1_loss_exclusive': 6.101974964141846, 'l0_loss': 334.7359313964844, 'l1_coeff': 1.1059228311624478, 'lr': 5e-05, 'explained_variance': 0.7978540658950806, 'explained_variance_A': 0.7992821335792542, 'explained_variance_B': 0.7964731454849243}\n"
     ]
    },
    {
     "name": "stderr",
     "output_type": "stream",
     "text": [
      "  3%|▎         | 2708/97656 [28:13<11:52:06,  2.22it/s]"
     ]
    },
    {
     "name": "stdout",
     "output_type": "stream",
     "text": [
      "Refreshing the buffer!\n"
     ]
    },
    {
     "name": "stderr",
     "output_type": "stream",
     "text": [
      "100%|██████████| 64/64 [00:11<00:00,  5.70it/s]\n",
      "  3%|▎         | 2771/97656 [28:53<11:51:47,  2.22it/s] "
     ]
    },
    {
     "name": "stdout",
     "output_type": "stream",
     "text": [
      "Refreshing the buffer!\n"
     ]
    },
    {
     "name": "stderr",
     "output_type": "stream",
     "text": [
      "100%|██████████| 64/64 [00:11<00:00,  5.75it/s]\n",
      "  3%|▎         | 2801/97656 [29:18<11:52:10,  2.22it/s] "
     ]
    },
    {
     "name": "stdout",
     "output_type": "stream",
     "text": [
      "{'loss': 1058.3087158203125, 'l2_loss': 579.4199829101562, 'l1_loss_shared': 405.18212890625, 'l1_loss_exclusive': 6.187341690063477, 'l0_loss': 313.38299560546875, 'l1_coeff': 1.146882936020316, 'lr': 5e-05, 'explained_variance': 0.7941655516624451, 'explained_variance_A': 0.7956781387329102, 'explained_variance_B': 0.7925373315811157}\n"
     ]
    },
    {
     "name": "stderr",
     "output_type": "stream",
     "text": [
      "  3%|▎         | 2834/97656 [29:32<11:51:03,  2.22it/s]"
     ]
    },
    {
     "name": "stdout",
     "output_type": "stream",
     "text": [
      "Refreshing the buffer!\n"
     ]
    },
    {
     "name": "stderr",
     "output_type": "stream",
     "text": [
      "100%|██████████| 64/64 [00:11<00:00,  5.70it/s]\n",
      "  3%|▎         | 2897/97656 [30:12<11:50:44,  2.22it/s] "
     ]
    },
    {
     "name": "stdout",
     "output_type": "stream",
     "text": [
      "Refreshing the buffer!\n"
     ]
    },
    {
     "name": "stderr",
     "output_type": "stream",
     "text": [
      "100%|██████████| 64/64 [00:11<00:00,  5.72it/s]\n",
      "  3%|▎         | 2901/97656 [30:25<42:17:27,  1.61s/it] "
     ]
    },
    {
     "name": "stdout",
     "output_type": "stream",
     "text": [
      "{'loss': 1055.8839111328125, 'l2_loss': 582.4910278320312, 'l1_loss_shared': 386.93646240234375, 'l1_loss_exclusive': 5.797518253326416, 'l0_loss': 288.5005798339844, 'l1_coeff': 1.1878430408781846, 'lr': 5e-05, 'explained_variance': 0.7920613884925842, 'explained_variance_A': 0.7934728860855103, 'explained_variance_B': 0.7907097339630127}\n"
     ]
    },
    {
     "name": "stderr",
     "output_type": "stream",
     "text": [
      "  3%|▎         | 2960/97656 [30:52<11:50:40,  2.22it/s]"
     ]
    },
    {
     "name": "stdout",
     "output_type": "stream",
     "text": [
      "Refreshing the buffer!\n"
     ]
    },
    {
     "name": "stderr",
     "output_type": "stream",
     "text": [
      "100%|██████████| 64/64 [00:11<00:00,  5.70it/s]\n",
      "  3%|▎         | 3000/97656 [31:23<26:19:08,  1.00s/it] "
     ]
    },
    {
     "name": "stdout",
     "output_type": "stream",
     "text": [
      "Saved as version 0 in checkpoints/version_3\n"
     ]
    },
    {
     "name": "stderr",
     "output_type": "stream",
     "text": [
      "  3%|▎         | 3001/97656 [31:23<21:58:57,  1.20it/s]"
     ]
    },
    {
     "name": "stdout",
     "output_type": "stream",
     "text": [
      "{'loss': 1072.33984375, 'l2_loss': 595.897216796875, 'l1_loss_shared': 376.84808349609375, 'l1_loss_exclusive': 5.440433502197266, 'l0_loss': 270.58026123046875, 'l1_coeff': 1.228803145736053, 'lr': 5e-05, 'explained_variance': 0.7888405323028564, 'explained_variance_A': 0.7901806235313416, 'explained_variance_B': 0.787433385848999}\n"
     ]
    },
    {
     "name": "stderr",
     "output_type": "stream",
     "text": [
      "  3%|▎         | 3023/97656 [31:33<11:49:50,  2.22it/s]"
     ]
    },
    {
     "name": "stdout",
     "output_type": "stream",
     "text": [
      "Refreshing the buffer!\n"
     ]
    },
    {
     "name": "stderr",
     "output_type": "stream",
     "text": [
      "100%|██████████| 64/64 [00:11<00:00,  5.70it/s]\n",
      "  3%|▎         | 3086/97656 [32:13<11:49:12,  2.22it/s] "
     ]
    },
    {
     "name": "stdout",
     "output_type": "stream",
     "text": [
      "Refreshing the buffer!\n"
     ]
    },
    {
     "name": "stderr",
     "output_type": "stream",
     "text": [
      "100%|██████████| 64/64 [00:11<00:00,  5.72it/s]\n",
      "  3%|▎         | 3101/97656 [32:31<12:25:44,  2.11it/s] "
     ]
    },
    {
     "name": "stdout",
     "output_type": "stream",
     "text": [
      "{'loss': 1070.0303955078125, 'l2_loss': 600.3257446289062, 'l1_loss_shared': 359.5033874511719, 'l1_loss_exclusive': 5.205860614776611, 'l0_loss': 250.8959197998047, 'l1_coeff': 1.2697632505939214, 'lr': 5e-05, 'explained_variance': 0.7840883731842041, 'explained_variance_A': 0.7859808206558228, 'explained_variance_B': 0.7822767496109009}\n"
     ]
    },
    {
     "name": "stderr",
     "output_type": "stream",
     "text": [
      "  3%|▎         | 3149/97656 [32:52<11:48:46,  2.22it/s]"
     ]
    },
    {
     "name": "stdout",
     "output_type": "stream",
     "text": [
      "Refreshing the buffer!\n"
     ]
    },
    {
     "name": "stderr",
     "output_type": "stream",
     "text": [
      "100%|██████████| 64/64 [00:11<00:00,  5.73it/s]\n",
      "  3%|▎         | 3201/97656 [33:27<11:48:51,  2.22it/s] "
     ]
    },
    {
     "name": "stdout",
     "output_type": "stream",
     "text": [
      "{'loss': 1087.901123046875, 'l2_loss': 614.1637573242188, 'l1_loss_shared': 350.9582824707031, 'l1_loss_exclusive': 5.236842155456543, 'l0_loss': 236.63021850585938, 'l1_coeff': 1.3107233554517899, 'lr': 5e-05, 'explained_variance': 0.7809804677963257, 'explained_variance_A': 0.782774806022644, 'explained_variance_B': 0.7791154384613037}\n"
     ]
    },
    {
     "name": "stderr",
     "output_type": "stream",
     "text": [
      "  3%|▎         | 3212/97656 [33:32<11:48:18,  2.22it/s]"
     ]
    },
    {
     "name": "stdout",
     "output_type": "stream",
     "text": [
      "Refreshing the buffer!\n"
     ]
    },
    {
     "name": "stderr",
     "output_type": "stream",
     "text": [
      "100%|██████████| 64/64 [00:11<00:00,  5.71it/s]\n",
      "  3%|▎         | 3275/97656 [34:12<11:47:44,  2.22it/s] "
     ]
    },
    {
     "name": "stdout",
     "output_type": "stream",
     "text": [
      "Refreshing the buffer!\n"
     ]
    },
    {
     "name": "stderr",
     "output_type": "stream",
     "text": [
      "100%|██████████| 64/64 [00:11<00:00,  5.71it/s]\n",
      "  3%|▎         | 3301/97656 [34:35<11:48:52,  2.22it/s] "
     ]
    },
    {
     "name": "stdout",
     "output_type": "stream",
     "text": [
      "{'loss': 1092.4437255859375, 'l2_loss': 620.2884521484375, 'l1_loss_shared': 339.5820617675781, 'l1_loss_exclusive': 4.863494873046875, 'l0_loss': 221.07333374023438, 'l1_coeff': 1.3516834603096584, 'lr': 5e-05, 'explained_variance': 0.7791242599487305, 'explained_variance_A': 0.7807514667510986, 'explained_variance_B': 0.7774394750595093}\n"
     ]
    },
    {
     "name": "stderr",
     "output_type": "stream",
     "text": [
      "  3%|▎         | 3338/97656 [34:51<11:47:08,  2.22it/s]"
     ]
    },
    {
     "name": "stdout",
     "output_type": "stream",
     "text": [
      "Refreshing the buffer!\n"
     ]
    },
    {
     "name": "stderr",
     "output_type": "stream",
     "text": [
      "100%|██████████| 64/64 [00:11<00:00,  5.69it/s]\n",
      "  3%|▎         | 3401/97656 [35:31<11:47:13,  2.22it/s] "
     ]
    },
    {
     "name": "stdout",
     "output_type": "stream",
     "text": [
      "{'loss': 1107.9412841796875, 'l2_loss': 633.6793823242188, 'l1_loss_shared': 331.6092529296875, 'l1_loss_exclusive': 4.469339847564697, 'l0_loss': 208.7831268310547, 'l1_coeff': 1.3926435651675269, 'lr': 5e-05, 'explained_variance': 0.7751259803771973, 'explained_variance_A': 0.777010977268219, 'explained_variance_B': 0.7732821702957153}\n",
      "Refreshing the buffer!\n"
     ]
    },
    {
     "name": "stderr",
     "output_type": "stream",
     "text": [
      "100%|██████████| 64/64 [00:11<00:00,  5.71it/s]\n",
      "  4%|▎         | 3464/97656 [36:11<11:46:19,  2.22it/s] "
     ]
    },
    {
     "name": "stdout",
     "output_type": "stream",
     "text": [
      "Refreshing the buffer!\n"
     ]
    },
    {
     "name": "stderr",
     "output_type": "stream",
     "text": [
      "100%|██████████| 64/64 [00:11<00:00,  5.73it/s]\n",
      "  4%|▎         | 3501/97656 [36:38<11:46:33,  2.22it/s] "
     ]
    },
    {
     "name": "stdout",
     "output_type": "stream",
     "text": [
      "{'loss': 1102.944091796875, 'l2_loss': 632.3185424804688, 'l1_loss_shared': 319.4189453125, 'l1_loss_exclusive': 4.431240081787109, 'l0_loss': 194.05892944335938, 'l1_coeff': 1.4336036700253951, 'lr': 5e-05, 'explained_variance': 0.774497389793396, 'explained_variance_A': 0.776425838470459, 'explained_variance_B': 0.7724205255508423}\n"
     ]
    },
    {
     "name": "stderr",
     "output_type": "stream",
     "text": [
      "  4%|▎         | 3527/97656 [36:50<11:45:48,  2.22it/s]"
     ]
    },
    {
     "name": "stdout",
     "output_type": "stream",
     "text": [
      "Refreshing the buffer!\n"
     ]
    },
    {
     "name": "stderr",
     "output_type": "stream",
     "text": [
      "100%|██████████| 64/64 [00:11<00:00,  5.71it/s]\n",
      "  4%|▎         | 3590/97656 [37:30<11:45:20,  2.22it/s] "
     ]
    },
    {
     "name": "stdout",
     "output_type": "stream",
     "text": [
      "Refreshing the buffer!\n"
     ]
    },
    {
     "name": "stderr",
     "output_type": "stream",
     "text": [
      "100%|██████████| 64/64 [00:11<00:00,  5.72it/s]\n",
      "  4%|▎         | 3601/97656 [37:46<14:15:26,  1.83it/s] "
     ]
    },
    {
     "name": "stdout",
     "output_type": "stream",
     "text": [
      "{'loss': 1111.3856201171875, 'l2_loss': 640.08984375, 'l1_loss_shared': 311.15118408203125, 'l1_loss_exclusive': 4.2329511642456055, 'l0_loss': 183.00570678710938, 'l1_coeff': 1.4745637748832636, 'lr': 5e-05, 'explained_variance': 0.7718580961227417, 'explained_variance_A': 0.7732555866241455, 'explained_variance_B': 0.7703419327735901}\n"
     ]
    },
    {
     "name": "stderr",
     "output_type": "stream",
     "text": [
      "  4%|▎         | 3653/97656 [38:09<11:45:10,  2.22it/s]"
     ]
    },
    {
     "name": "stdout",
     "output_type": "stream",
     "text": [
      "Refreshing the buffer!\n"
     ]
    },
    {
     "name": "stderr",
     "output_type": "stream",
     "text": [
      "100%|██████████| 64/64 [00:11<00:00,  5.74it/s]\n",
      "  4%|▍         | 3701/97656 [38:42<11:45:11,  2.22it/s]"
     ]
    },
    {
     "name": "stdout",
     "output_type": "stream",
     "text": [
      "{'loss': 1118.8902587890625, 'l2_loss': 648.520751953125, 'l1_loss_shared': 301.97412109375, 'l1_loss_exclusive': 4.196770668029785, 'l0_loss': 172.526123046875, 'l1_coeff': 1.5155238797411321, 'lr': 5e-05, 'explained_variance': 0.7684303522109985, 'explained_variance_A': 0.7703010439872742, 'explained_variance_B': 0.7664535045623779}\n"
     ]
    },
    {
     "name": "stderr",
     "output_type": "stream",
     "text": [
      "  4%|▍         | 3716/97656 [38:49<11:44:29,  2.22it/s]"
     ]
    },
    {
     "name": "stdout",
     "output_type": "stream",
     "text": [
      "Refreshing the buffer!\n"
     ]
    },
    {
     "name": "stderr",
     "output_type": "stream",
     "text": [
      "100%|██████████| 64/64 [00:11<00:00,  5.71it/s]\n",
      "  4%|▍         | 3779/97656 [39:29<11:44:10,  2.22it/s] "
     ]
    },
    {
     "name": "stdout",
     "output_type": "stream",
     "text": [
      "Refreshing the buffer!\n"
     ]
    },
    {
     "name": "stderr",
     "output_type": "stream",
     "text": [
      "100%|██████████| 64/64 [00:11<00:00,  5.70it/s]\n",
      "  4%|▍         | 3801/97656 [39:50<11:47:16,  2.21it/s] "
     ]
    },
    {
     "name": "stdout",
     "output_type": "stream",
     "text": [
      "{'loss': 1117.74072265625, 'l2_loss': 649.65625, 'l1_loss_shared': 292.6416015625, 'l1_loss_exclusive': 4.045201301574707, 'l0_loss': 161.72933959960938, 'l1_coeff': 1.5564839845990006, 'lr': 5e-05, 'explained_variance': 0.7674578428268433, 'explained_variance_A': 0.7696002125740051, 'explained_variance_B': 0.7651997804641724}\n"
     ]
    },
    {
     "name": "stderr",
     "output_type": "stream",
     "text": [
      "  4%|▍         | 3842/97656 [40:08<11:43:34,  2.22it/s]"
     ]
    },
    {
     "name": "stdout",
     "output_type": "stream",
     "text": [
      "Refreshing the buffer!\n"
     ]
    },
    {
     "name": "stderr",
     "output_type": "stream",
     "text": [
      "100%|██████████| 64/64 [00:11<00:00,  5.68it/s]\n",
      "  4%|▍         | 3901/97656 [40:46<11:43:45,  2.22it/s] "
     ]
    },
    {
     "name": "stdout",
     "output_type": "stream",
     "text": [
      "{'loss': 1132.6334228515625, 'l2_loss': 661.07861328125, 'l1_loss_shared': 287.75164794921875, 'l1_loss_exclusive': 3.7208242416381836, 'l0_loss': 153.6259765625, 'l1_coeff': 1.5974440894568689, 'lr': 5e-05, 'explained_variance': 0.7649903893470764, 'explained_variance_A': 0.766872763633728, 'explained_variance_B': 0.7630653381347656}\n"
     ]
    },
    {
     "name": "stderr",
     "output_type": "stream",
     "text": [
      "  4%|▍         | 3905/97656 [40:48<11:43:05,  2.22it/s]"
     ]
    },
    {
     "name": "stdout",
     "output_type": "stream",
     "text": [
      "Refreshing the buffer!\n"
     ]
    },
    {
     "name": "stderr",
     "output_type": "stream",
     "text": [
      "100%|██████████| 64/64 [00:11<00:00,  5.71it/s]\n",
      "  4%|▍         | 3968/97656 [41:28<11:42:32,  2.22it/s]"
     ]
    },
    {
     "name": "stdout",
     "output_type": "stream",
     "text": [
      "Refreshing the buffer!\n"
     ]
    },
    {
     "name": "stderr",
     "output_type": "stream",
     "text": [
      "100%|██████████| 64/64 [00:11<00:00,  5.68it/s]\n",
      "  4%|▍         | 4001/97656 [41:54<11:42:56,  2.22it/s] "
     ]
    },
    {
     "name": "stdout",
     "output_type": "stream",
     "text": [
      "{'loss': 1138.0665283203125, 'l2_loss': 666.5836791992188, 'l1_loss_shared': 280.28692626953125, 'l1_loss_exclusive': 3.74128794670105, 'l0_loss': 145.36166381835938, 'l1_coeff': 1.6384041943147374, 'lr': 5e-05, 'explained_variance': 0.7626415491104126, 'explained_variance_A': 0.7646070122718811, 'explained_variance_B': 0.7605409622192383}\n"
     ]
    },
    {
     "name": "stderr",
     "output_type": "stream",
     "text": [
      "  4%|▍         | 4031/97656 [42:07<11:42:14,  2.22it/s]"
     ]
    },
    {
     "name": "stdout",
     "output_type": "stream",
     "text": [
      "Refreshing the buffer!\n"
     ]
    },
    {
     "name": "stderr",
     "output_type": "stream",
     "text": [
      "100%|██████████| 64/64 [00:11<00:00,  5.70it/s]\n",
      "  4%|▍         | 4094/97656 [42:47<11:41:34,  2.22it/s]"
     ]
    },
    {
     "name": "stdout",
     "output_type": "stream",
     "text": [
      "Refreshing the buffer!\n"
     ]
    },
    {
     "name": "stderr",
     "output_type": "stream",
     "text": [
      "100%|██████████| 64/64 [00:11<00:00,  5.73it/s]\n",
      "  4%|▍         | 4101/97656 [43:01<22:00:55,  1.18it/s]"
     ]
    },
    {
     "name": "stdout",
     "output_type": "stream",
     "text": [
      "{'loss': 1144.9954833984375, 'l2_loss': 671.5916137695312, 'l1_loss_shared': 274.6158752441406, 'l1_loss_exclusive': 3.6394124031066895, 'l0_loss': 137.41146850585938, 'l1_coeff': 1.6793642991726059, 'lr': 5e-05, 'explained_variance': 0.762439489364624, 'explained_variance_A': 0.7650096416473389, 'explained_variance_B': 0.7598358392715454}\n"
     ]
    },
    {
     "name": "stderr",
     "output_type": "stream",
     "text": [
      "  4%|▍         | 4157/97656 [43:26<11:41:16,  2.22it/s]"
     ]
    },
    {
     "name": "stdout",
     "output_type": "stream",
     "text": [
      "Refreshing the buffer!\n"
     ]
    },
    {
     "name": "stderr",
     "output_type": "stream",
     "text": [
      "100%|██████████| 64/64 [00:11<00:00,  5.73it/s]\n",
      "  4%|▍         | 4201/97656 [43:57<11:41:27,  2.22it/s]"
     ]
    },
    {
     "name": "stdout",
     "output_type": "stream",
     "text": [
      "{'loss': 1153.3809814453125, 'l2_loss': 677.87451171875, 'l1_loss_shared': 269.87060546875, 'l1_loss_exclusive': 3.2672505378723145, 'l0_loss': 130.67440795898438, 'l1_coeff': 1.7203244040304742, 'lr': 5e-05, 'explained_variance': 0.7606556415557861, 'explained_variance_A': 0.7626523375511169, 'explained_variance_B': 0.7585657835006714}\n"
     ]
    },
    {
     "name": "stderr",
     "output_type": "stream",
     "text": [
      "  4%|▍         | 4220/97656 [44:06<11:40:48,  2.22it/s]"
     ]
    },
    {
     "name": "stdout",
     "output_type": "stream",
     "text": [
      "Refreshing the buffer!\n"
     ]
    },
    {
     "name": "stderr",
     "output_type": "stream",
     "text": [
      "100%|██████████| 64/64 [00:11<00:00,  5.68it/s]\n",
      "  4%|▍         | 4283/97656 [44:46<11:40:14,  2.22it/s]"
     ]
    },
    {
     "name": "stdout",
     "output_type": "stream",
     "text": [
      "Refreshing the buffer!\n"
     ]
    },
    {
     "name": "stderr",
     "output_type": "stream",
     "text": [
      "100%|██████████| 64/64 [00:11<00:00,  5.72it/s]\n",
      "  4%|▍         | 4301/97656 [45:05<11:52:43,  2.18it/s]"
     ]
    },
    {
     "name": "stdout",
     "output_type": "stream",
     "text": [
      "{'loss': 1146.745849609375, 'l2_loss': 675.1441650390625, 'l1_loss_shared': 261.6069641113281, 'l1_loss_exclusive': 3.076572895050049, 'l0_loss': 123.25203704833984, 'l1_coeff': 1.7612845088883426, 'lr': 5e-05, 'explained_variance': 0.7592356204986572, 'explained_variance_A': 0.761263906955719, 'explained_variance_B': 0.7571980953216553}\n"
     ]
    },
    {
     "name": "stderr",
     "output_type": "stream",
     "text": [
      "  4%|▍         | 4346/97656 [45:25<11:39:45,  2.22it/s]"
     ]
    },
    {
     "name": "stdout",
     "output_type": "stream",
     "text": [
      "Refreshing the buffer!\n"
     ]
    },
    {
     "name": "stderr",
     "output_type": "stream",
     "text": [
      "100%|██████████| 64/64 [00:11<00:00,  5.72it/s]\n",
      "  5%|▍         | 4401/97656 [46:01<11:39:49,  2.22it/s]"
     ]
    },
    {
     "name": "stdout",
     "output_type": "stream",
     "text": [
      "{'loss': 1163.6396484375, 'l2_loss': 690.279052734375, 'l1_loss_shared': 256.18115234375, 'l1_loss_exclusive': 3.2347118854522705, 'l0_loss': 118.36653900146484, 'l1_coeff': 1.8022446137462111, 'lr': 5e-05, 'explained_variance': 0.7534410357475281, 'explained_variance_A': 0.7560703754425049, 'explained_variance_B': 0.7508508563041687}\n"
     ]
    },
    {
     "name": "stderr",
     "output_type": "stream",
     "text": [
      "  5%|▍         | 4409/97656 [46:05<11:39:21,  2.22it/s]"
     ]
    },
    {
     "name": "stdout",
     "output_type": "stream",
     "text": [
      "Refreshing the buffer!\n"
     ]
    },
    {
     "name": "stderr",
     "output_type": "stream",
     "text": [
      "100%|██████████| 64/64 [00:11<00:00,  5.68it/s]\n",
      "  5%|▍         | 4472/97656 [46:45<11:38:47,  2.22it/s]"
     ]
    },
    {
     "name": "stdout",
     "output_type": "stream",
     "text": [
      "Refreshing the buffer!\n"
     ]
    },
    {
     "name": "stderr",
     "output_type": "stream",
     "text": [
      "100%|██████████| 64/64 [00:11<00:00,  5.72it/s]\n",
      "  5%|▍         | 4501/97656 [47:09<11:39:19,  2.22it/s]"
     ]
    },
    {
     "name": "stdout",
     "output_type": "stream",
     "text": [
      "{'loss': 1168.970947265625, 'l2_loss': 691.776611328125, 'l1_loss_shared': 252.86953735351562, 'l1_loss_exclusive': 3.0121517181396484, 'l0_loss': 112.31559753417969, 'l1_coeff': 1.8432047186040796, 'lr': 5e-05, 'explained_variance': 0.7555146217346191, 'explained_variance_A': 0.7582878470420837, 'explained_variance_B': 0.7527017593383789}\n"
     ]
    },
    {
     "name": "stderr",
     "output_type": "stream",
     "text": [
      "  5%|▍         | 4535/97656 [47:24<11:38:28,  2.22it/s]"
     ]
    },
    {
     "name": "stdout",
     "output_type": "stream",
     "text": [
      "Refreshing the buffer!\n"
     ]
    },
    {
     "name": "stderr",
     "output_type": "stream",
     "text": [
      "100%|██████████| 64/64 [00:11<00:00,  5.71it/s]\n",
      "  5%|▍         | 4598/97656 [48:04<11:37:49,  2.22it/s]"
     ]
    },
    {
     "name": "stdout",
     "output_type": "stream",
     "text": [
      "Refreshing the buffer!\n"
     ]
    },
    {
     "name": "stderr",
     "output_type": "stream",
     "text": [
      "100%|██████████| 64/64 [00:11<00:00,  5.69it/s]\n",
      "  5%|▍         | 4601/97656 [48:17<54:39:57,  2.11s/it]"
     ]
    },
    {
     "name": "stdout",
     "output_type": "stream",
     "text": [
      "{'loss': 1170.6065673828125, 'l2_loss': 693.7181396484375, 'l1_loss_shared': 247.23699951171875, 'l1_loss_exclusive': 2.93315052986145, 'l0_loss': 106.91951751708984, 'l1_coeff': 1.884164823461948, 'lr': 5e-05, 'explained_variance': 0.7537550330162048, 'explained_variance_A': 0.7567832469940186, 'explained_variance_B': 0.7507739067077637}\n"
     ]
    },
    {
     "name": "stderr",
     "output_type": "stream",
     "text": [
      "  5%|▍         | 4661/97656 [48:44<11:37:22,  2.22it/s]"
     ]
    },
    {
     "name": "stdout",
     "output_type": "stream",
     "text": [
      "Refreshing the buffer!\n"
     ]
    },
    {
     "name": "stderr",
     "output_type": "stream",
     "text": [
      "100%|██████████| 64/64 [00:11<00:00,  5.73it/s]\n",
      "  5%|▍         | 4701/97656 [49:13<11:37:38,  2.22it/s]"
     ]
    },
    {
     "name": "stdout",
     "output_type": "stream",
     "text": [
      "{'loss': 1178.2255859375, 'l2_loss': 699.9791259765625, 'l1_loss_shared': 242.51910400390625, 'l1_loss_exclusive': 2.9522500038146973, 'l0_loss': 102.3310546875, 'l1_coeff': 1.9251249283198164, 'lr': 5e-05, 'explained_variance': 0.7518070936203003, 'explained_variance_A': 0.7549494504928589, 'explained_variance_B': 0.7485121488571167}\n"
     ]
    },
    {
     "name": "stderr",
     "output_type": "stream",
     "text": [
      "  5%|▍         | 4724/97656 [49:23<11:36:59,  2.22it/s]"
     ]
    },
    {
     "name": "stdout",
     "output_type": "stream",
     "text": [
      "Refreshing the buffer!\n"
     ]
    },
    {
     "name": "stderr",
     "output_type": "stream",
     "text": [
      "100%|██████████| 64/64 [00:11<00:00,  5.71it/s]\n",
      "  5%|▍         | 4787/97656 [50:03<11:36:21,  2.22it/s]"
     ]
    },
    {
     "name": "stdout",
     "output_type": "stream",
     "text": [
      "Refreshing the buffer!\n"
     ]
    },
    {
     "name": "stderr",
     "output_type": "stream",
     "text": [
      "100%|██████████| 64/64 [00:11<00:00,  5.68it/s]\n",
      "  5%|▍         | 4801/97656 [50:20<12:27:31,  2.07it/s]"
     ]
    },
    {
     "name": "stdout",
     "output_type": "stream",
     "text": [
      "{'loss': 1181.87255859375, 'l2_loss': 703.65576171875, 'l1_loss_shared': 237.77597045898438, 'l1_loss_exclusive': 2.7285208702087402, 'l0_loss': 97.15080261230469, 'l1_coeff': 1.966085033177685, 'lr': 5e-05, 'explained_variance': 0.7505383491516113, 'explained_variance_A': 0.7536395788192749, 'explained_variance_B': 0.7473848462104797}\n"
     ]
    },
    {
     "name": "stderr",
     "output_type": "stream",
     "text": [
      "  5%|▍         | 4850/97656 [50:42<11:36:06,  2.22it/s]"
     ]
    },
    {
     "name": "stdout",
     "output_type": "stream",
     "text": [
      "Refreshing the buffer!\n"
     ]
    },
    {
     "name": "stderr",
     "output_type": "stream",
     "text": [
      "100%|██████████| 64/64 [00:11<00:00,  5.70it/s]\n",
      "  5%|▌         | 4901/97656 [51:17<11:35:57,  2.22it/s]"
     ]
    },
    {
     "name": "stdout",
     "output_type": "stream",
     "text": [
      "{'loss': 1183.271240234375, 'l2_loss': 704.2401123046875, 'l1_loss_shared': 234.53680419921875, 'l1_loss_exclusive': 2.4893887042999268, 'l0_loss': 92.92049407958984, 'l1_coeff': 2, 'lr': 5e-05, 'explained_variance': 0.7499014735221863, 'explained_variance_A': 0.7530112266540527, 'explained_variance_B': 0.7466580867767334}\n"
     ]
    },
    {
     "name": "stderr",
     "output_type": "stream",
     "text": [
      "  5%|▌         | 4913/97656 [51:22<11:35:22,  2.22it/s]"
     ]
    },
    {
     "name": "stdout",
     "output_type": "stream",
     "text": [
      "Refreshing the buffer!\n"
     ]
    },
    {
     "name": "stderr",
     "output_type": "stream",
     "text": [
      "100%|██████████| 64/64 [00:11<00:00,  5.70it/s]\n",
      "  5%|▌         | 4976/97656 [52:02<11:35:05,  2.22it/s]"
     ]
    },
    {
     "name": "stdout",
     "output_type": "stream",
     "text": [
      "Refreshing the buffer!\n"
     ]
    },
    {
     "name": "stderr",
     "output_type": "stream",
     "text": [
      "100%|██████████| 64/64 [00:11<00:00,  5.67it/s]\n",
      "  5%|▌         | 5001/97656 [52:24<11:36:19,  2.22it/s]"
     ]
    },
    {
     "name": "stdout",
     "output_type": "stream",
     "text": [
      "{'loss': 1179.6492919921875, 'l2_loss': 704.6475219726562, 'l1_loss_shared': 232.5596466064453, 'l1_loss_exclusive': 2.4706151485443115, 'l0_loss': 90.201416015625, 'l1_coeff': 2, 'lr': 5e-05, 'explained_variance': 0.7522081136703491, 'explained_variance_A': 0.755297064781189, 'explained_variance_B': 0.7489776611328125}\n"
     ]
    },
    {
     "name": "stderr",
     "output_type": "stream",
     "text": [
      "  5%|▌         | 5039/97656 [52:41<11:34:35,  2.22it/s]"
     ]
    },
    {
     "name": "stdout",
     "output_type": "stream",
     "text": [
      "Refreshing the buffer!\n"
     ]
    },
    {
     "name": "stderr",
     "output_type": "stream",
     "text": [
      "100%|██████████| 64/64 [00:11<00:00,  5.73it/s]\n",
      "  5%|▌         | 5101/97656 [53:21<11:34:29,  2.22it/s]"
     ]
    },
    {
     "name": "stdout",
     "output_type": "stream",
     "text": [
      "{'loss': 1176.178955078125, 'l2_loss': 706.792236328125, 'l1_loss_shared': 229.953125, 'l1_loss_exclusive': 2.3701319694519043, 'l0_loss': 87.33049011230469, 'l1_coeff': 2, 'lr': 5e-05, 'explained_variance': 0.7489720582962036, 'explained_variance_A': 0.7523893117904663, 'explained_variance_B': 0.7456034421920776}\n"
     ]
    },
    {
     "name": "stderr",
     "output_type": "stream",
     "text": [
      "  5%|▌         | 5102/97656 [53:21<11:34:14,  2.22it/s]"
     ]
    },
    {
     "name": "stdout",
     "output_type": "stream",
     "text": [
      "Refreshing the buffer!\n"
     ]
    },
    {
     "name": "stderr",
     "output_type": "stream",
     "text": [
      "100%|██████████| 64/64 [00:11<00:00,  5.69it/s]\n",
      "  5%|▌         | 5165/97656 [54:01<11:33:31,  2.22it/s]"
     ]
    },
    {
     "name": "stdout",
     "output_type": "stream",
     "text": [
      "Refreshing the buffer!\n"
     ]
    },
    {
     "name": "stderr",
     "output_type": "stream",
     "text": [
      "100%|██████████| 64/64 [00:11<00:00,  5.65it/s]\n",
      "  5%|▌         | 5201/97656 [54:28<11:33:35,  2.22it/s]"
     ]
    },
    {
     "name": "stdout",
     "output_type": "stream",
     "text": [
      "{'loss': 1171.7041015625, 'l2_loss': 706.2578125, 'l1_loss_shared': 227.85302734375, 'l1_loss_exclusive': 2.435054302215576, 'l0_loss': 84.59391784667969, 'l1_coeff': 2, 'lr': 5e-05, 'explained_variance': 0.7503564357757568, 'explained_variance_A': 0.7529401779174805, 'explained_variance_B': 0.747584342956543}\n"
     ]
    },
    {
     "name": "stderr",
     "output_type": "stream",
     "text": [
      "  5%|▌         | 5228/97656 [54:40<11:33:29,  2.22it/s]"
     ]
    },
    {
     "name": "stdout",
     "output_type": "stream",
     "text": [
      "Refreshing the buffer!\n"
     ]
    },
    {
     "name": "stderr",
     "output_type": "stream",
     "text": [
      "100%|██████████| 64/64 [00:11<00:00,  5.72it/s]\n",
      "  5%|▌         | 5291/97656 [55:20<11:32:45,  2.22it/s]"
     ]
    },
    {
     "name": "stdout",
     "output_type": "stream",
     "text": [
      "Refreshing the buffer!\n"
     ]
    },
    {
     "name": "stderr",
     "output_type": "stream",
     "text": [
      "100%|██████████| 64/64 [00:11<00:00,  5.71it/s]\n",
      "  5%|▌         | 5301/97656 [55:36<15:03:29,  1.70it/s]"
     ]
    },
    {
     "name": "stdout",
     "output_type": "stream",
     "text": [
      "{'loss': 1159.9454345703125, 'l2_loss': 699.6978759765625, 'l1_loss_shared': 225.35787963867188, 'l1_loss_exclusive': 2.382955551147461, 'l0_loss': 82.33650970458984, 'l1_coeff': 2, 'lr': 5e-05, 'explained_variance': 0.7513159513473511, 'explained_variance_A': 0.7539709806442261, 'explained_variance_B': 0.7486460208892822}\n"
     ]
    },
    {
     "name": "stderr",
     "output_type": "stream",
     "text": [
      "  5%|▌         | 5354/97656 [56:00<11:32:10,  2.22it/s]"
     ]
    },
    {
     "name": "stdout",
     "output_type": "stream",
     "text": [
      "Refreshing the buffer!\n"
     ]
    },
    {
     "name": "stderr",
     "output_type": "stream",
     "text": [
      "100%|██████████| 64/64 [00:11<00:00,  5.67it/s]\n",
      "  6%|▌         | 5401/97656 [56:32<11:32:15,  2.22it/s]"
     ]
    },
    {
     "name": "stdout",
     "output_type": "stream",
     "text": [
      "{'loss': 1155.92529296875, 'l2_loss': 697.1510009765625, 'l1_loss_shared': 224.54835510253906, 'l1_loss_exclusive': 2.4194114208221436, 'l0_loss': 79.78377532958984, 'l1_coeff': 2, 'lr': 5e-05, 'explained_variance': 0.7530567646026611, 'explained_variance_A': 0.7557508945465088, 'explained_variance_B': 0.7501916885375977}\n"
     ]
    },
    {
     "name": "stderr",
     "output_type": "stream",
     "text": [
      "  6%|▌         | 5417/97656 [56:39<11:31:43,  2.22it/s]"
     ]
    },
    {
     "name": "stdout",
     "output_type": "stream",
     "text": [
      "Refreshing the buffer!\n"
     ]
    },
    {
     "name": "stderr",
     "output_type": "stream",
     "text": [
      "100%|██████████| 64/64 [00:11<00:00,  5.71it/s]\n",
      "  6%|▌         | 5480/97656 [57:19<11:31:08,  2.22it/s]"
     ]
    },
    {
     "name": "stdout",
     "output_type": "stream",
     "text": [
      "Refreshing the buffer!\n"
     ]
    },
    {
     "name": "stderr",
     "output_type": "stream",
     "text": [
      "100%|██████████| 64/64 [00:11<00:00,  5.72it/s]\n",
      "  6%|▌         | 5501/97656 [57:40<11:35:41,  2.21it/s]"
     ]
    },
    {
     "name": "stdout",
     "output_type": "stream",
     "text": [
      "{'loss': 1152.9609375, 'l2_loss': 697.1888427734375, 'l1_loss_shared': 223.02293395996094, 'l1_loss_exclusive': 2.43153715133667, 'l0_loss': 78.166015625, 'l1_coeff': 2, 'lr': 5e-05, 'explained_variance': 0.7523335218429565, 'explained_variance_A': 0.7556616067886353, 'explained_variance_B': 0.7488075494766235}\n"
     ]
    },
    {
     "name": "stderr",
     "output_type": "stream",
     "text": [
      "  6%|▌         | 5543/97656 [57:59<11:30:51,  2.22it/s]"
     ]
    },
    {
     "name": "stdout",
     "output_type": "stream",
     "text": [
      "Refreshing the buffer!\n"
     ]
    },
    {
     "name": "stderr",
     "output_type": "stream",
     "text": [
      "100%|██████████| 64/64 [00:11<00:00,  5.71it/s]\n",
      "  6%|▌         | 5601/97656 [58:36<11:30:49,  2.22it/s]"
     ]
    },
    {
     "name": "stdout",
     "output_type": "stream",
     "text": [
      "{'loss': 1163.42236328125, 'l2_loss': 707.2938232421875, 'l1_loss_shared': 223.52130126953125, 'l1_loss_exclusive': 2.271494150161743, 'l0_loss': 76.988037109375, 'l1_coeff': 2, 'lr': 5e-05, 'explained_variance': 0.7507672309875488, 'explained_variance_A': 0.753582239151001, 'explained_variance_B': 0.7478783130645752}\n"
     ]
    },
    {
     "name": "stderr",
     "output_type": "stream",
     "text": [
      "  6%|▌         | 5606/97656 [58:38<11:30:19,  2.22it/s]"
     ]
    },
    {
     "name": "stdout",
     "output_type": "stream",
     "text": [
      "Refreshing the buffer!\n"
     ]
    },
    {
     "name": "stderr",
     "output_type": "stream",
     "text": [
      "100%|██████████| 64/64 [00:11<00:00,  5.69it/s]\n",
      "  6%|▌         | 5669/97656 [59:18<11:29:54,  2.22it/s]"
     ]
    },
    {
     "name": "stdout",
     "output_type": "stream",
     "text": [
      "Refreshing the buffer!\n"
     ]
    },
    {
     "name": "stderr",
     "output_type": "stream",
     "text": [
      "100%|██████████| 64/64 [00:11<00:00,  5.70it/s]\n",
      "  6%|▌         | 5701/97656 [59:44<11:30:15,  2.22it/s]"
     ]
    },
    {
     "name": "stdout",
     "output_type": "stream",
     "text": [
      "{'loss': 1145.413330078125, 'l2_loss': 695.5625, 'l1_loss_shared': 220.17425537109375, 'l1_loss_exclusive': 2.3755898475646973, 'l0_loss': 74.309326171875, 'l1_coeff': 2, 'lr': 5e-05, 'explained_variance': 0.7530452013015747, 'explained_variance_A': 0.7559384107589722, 'explained_variance_B': 0.7499302625656128}\n"
     ]
    },
    {
     "name": "stderr",
     "output_type": "stream",
     "text": [
      "  6%|▌         | 5732/97656 [59:57<11:29:29,  2.22it/s]"
     ]
    },
    {
     "name": "stdout",
     "output_type": "stream",
     "text": [
      "Refreshing the buffer!\n"
     ]
    },
    {
     "name": "stderr",
     "output_type": "stream",
     "text": [
      "100%|██████████| 64/64 [00:11<00:00,  5.66it/s]\n",
      "  6%|▌         | 5795/97656 [1:00:37<11:28:51,  2.22it/s]"
     ]
    },
    {
     "name": "stdout",
     "output_type": "stream",
     "text": [
      "Refreshing the buffer!\n"
     ]
    },
    {
     "name": "stderr",
     "output_type": "stream",
     "text": [
      "100%|██████████| 64/64 [00:11<00:00,  5.72it/s]\n",
      "  6%|▌         | 5801/97656 [1:00:51<25:58:20,  1.02s/it]"
     ]
    },
    {
     "name": "stdout",
     "output_type": "stream",
     "text": [
      "{'loss': 1148.0103759765625, 'l2_loss': 697.4395751953125, 'l1_loss_shared': 220.78607177734375, 'l1_loss_exclusive': 2.249662160873413, 'l0_loss': 73.36409759521484, 'l1_coeff': 2, 'lr': 5e-05, 'explained_variance': 0.7542874813079834, 'explained_variance_A': 0.7573235034942627, 'explained_variance_B': 0.7511605024337769}\n"
     ]
    },
    {
     "name": "stderr",
     "output_type": "stream",
     "text": [
      "  6%|▌         | 5858/97656 [1:01:17<11:28:26,  2.22it/s]"
     ]
    },
    {
     "name": "stdout",
     "output_type": "stream",
     "text": [
      "Refreshing the buffer!\n"
     ]
    },
    {
     "name": "stderr",
     "output_type": "stream",
     "text": [
      "100%|██████████| 64/64 [00:11<00:00,  5.70it/s]\n",
      "  6%|▌         | 5901/97656 [1:01:47<11:28:40,  2.22it/s]"
     ]
    },
    {
     "name": "stdout",
     "output_type": "stream",
     "text": [
      "{'loss': 1153.2935791015625, 'l2_loss': 703.628173828125, 'l1_loss_shared': 220.40841674804688, 'l1_loss_exclusive': 2.2121176719665527, 'l0_loss': 72.46598815917969, 'l1_coeff': 2, 'lr': 5e-05, 'explained_variance': 0.751681923866272, 'explained_variance_A': 0.7548514604568481, 'explained_variance_B': 0.748297929763794}\n"
     ]
    },
    {
     "name": "stderr",
     "output_type": "stream",
     "text": [
      "  6%|▌         | 5921/97656 [1:01:56<11:28:03,  2.22it/s]"
     ]
    },
    {
     "name": "stdout",
     "output_type": "stream",
     "text": [
      "Refreshing the buffer!\n"
     ]
    },
    {
     "name": "stderr",
     "output_type": "stream",
     "text": [
      "100%|██████████| 64/64 [00:11<00:00,  5.67it/s]\n",
      "  6%|▌         | 5984/97656 [1:02:36<11:27:41,  2.22it/s]"
     ]
    },
    {
     "name": "stdout",
     "output_type": "stream",
     "text": [
      "Refreshing the buffer!\n"
     ]
    },
    {
     "name": "stderr",
     "output_type": "stream",
     "text": [
      "100%|██████████| 64/64 [00:11<00:00,  5.73it/s]\n",
      "  6%|▌         | 6000/97656 [1:02:56<25:54:25,  1.02s/it]"
     ]
    },
    {
     "name": "stdout",
     "output_type": "stream",
     "text": [
      "Saved as version 1 in checkpoints/version_3\n"
     ]
    },
    {
     "name": "stderr",
     "output_type": "stream",
     "text": [
      "  6%|▌         | 6001/97656 [1:02:57<21:45:10,  1.17it/s]"
     ]
    },
    {
     "name": "stdout",
     "output_type": "stream",
     "text": [
      "{'loss': 1140.0838623046875, 'l2_loss': 695.2393798828125, 'l1_loss_shared': 218.22772216796875, 'l1_loss_exclusive': 2.0972683429718018, 'l0_loss': 70.49935150146484, 'l1_coeff': 2, 'lr': 5e-05, 'explained_variance': 0.7538717985153198, 'explained_variance_A': 0.7566551566123962, 'explained_variance_B': 0.7510189414024353}\n"
     ]
    },
    {
     "name": "stderr",
     "output_type": "stream",
     "text": [
      "  6%|▌         | 6047/97656 [1:03:18<11:27:17,  2.22it/s]"
     ]
    },
    {
     "name": "stdout",
     "output_type": "stream",
     "text": [
      "Refreshing the buffer!\n"
     ]
    },
    {
     "name": "stderr",
     "output_type": "stream",
     "text": [
      "100%|██████████| 64/64 [00:11<00:00,  5.69it/s]\n",
      "  6%|▌         | 6101/97656 [1:03:53<11:27:25,  2.22it/s]"
     ]
    },
    {
     "name": "stdout",
     "output_type": "stream",
     "text": [
      "{'loss': 1141.239990234375, 'l2_loss': 696.2993774414062, 'l1_loss_shared': 218.14437866210938, 'l1_loss_exclusive': 2.1629490852355957, 'l0_loss': 69.49609375, 'l1_coeff': 2, 'lr': 5e-05, 'explained_variance': 0.7535409331321716, 'explained_variance_A': 0.7560534477233887, 'explained_variance_B': 0.7508586645126343}\n"
     ]
    },
    {
     "name": "stderr",
     "output_type": "stream",
     "text": [
      "  6%|▋         | 6110/97656 [1:03:57<11:26:48,  2.22it/s]"
     ]
    },
    {
     "name": "stdout",
     "output_type": "stream",
     "text": [
      "Refreshing the buffer!\n"
     ]
    },
    {
     "name": "stderr",
     "output_type": "stream",
     "text": [
      "100%|██████████| 64/64 [00:11<00:00,  5.68it/s]\n",
      "  6%|▋         | 6173/97656 [1:04:37<11:26:11,  2.22it/s]"
     ]
    },
    {
     "name": "stdout",
     "output_type": "stream",
     "text": [
      "Refreshing the buffer!\n"
     ]
    },
    {
     "name": "stderr",
     "output_type": "stream",
     "text": [
      "100%|██████████| 64/64 [00:11<00:00,  5.72it/s]\n",
      "  6%|▋         | 6201/97656 [1:05:01<11:26:51,  2.22it/s]"
     ]
    },
    {
     "name": "stdout",
     "output_type": "stream",
     "text": [
      "{'loss': 1139.097412109375, 'l2_loss': 697.4202880859375, 'l1_loss_shared': 216.67514038085938, 'l1_loss_exclusive': 2.0817110538482666, 'l0_loss': 68.483154296875, 'l1_coeff': 2, 'lr': 5e-05, 'explained_variance': 0.7519270181655884, 'explained_variance_A': 0.7556238174438477, 'explained_variance_B': 0.7483118772506714}\n"
     ]
    },
    {
     "name": "stderr",
     "output_type": "stream",
     "text": [
      "  6%|▋         | 6236/97656 [1:05:17<11:25:41,  2.22it/s]"
     ]
    },
    {
     "name": "stdout",
     "output_type": "stream",
     "text": [
      "Refreshing the buffer!\n"
     ]
    },
    {
     "name": "stderr",
     "output_type": "stream",
     "text": [
      "100%|██████████| 64/64 [00:11<00:00,  5.72it/s]\n",
      "  6%|▋         | 6299/97656 [1:05:56<11:25:13,  2.22it/s]"
     ]
    },
    {
     "name": "stdout",
     "output_type": "stream",
     "text": [
      "Refreshing the buffer!\n"
     ]
    },
    {
     "name": "stderr",
     "output_type": "stream",
     "text": [
      "100%|██████████| 64/64 [00:11<00:00,  5.67it/s]\n",
      "  6%|▋         | 6301/97656 [1:06:08<71:56:36,  2.84s/it]"
     ]
    },
    {
     "name": "stdout",
     "output_type": "stream",
     "text": [
      "{'loss': 1129.0321044921875, 'l2_loss': 689.3589477539062, 'l1_loss_shared': 215.4882049560547, 'l1_loss_exclusive': 2.1741881370544434, 'l0_loss': 66.40177917480469, 'l1_coeff': 2, 'lr': 5e-05, 'explained_variance': 0.7562621235847473, 'explained_variance_A': 0.7594919204711914, 'explained_variance_B': 0.7528133392333984}\n"
     ]
    },
    {
     "name": "stderr",
     "output_type": "stream",
     "text": [
      "  7%|▋         | 6362/97656 [1:06:36<11:24:46,  2.22it/s]"
     ]
    },
    {
     "name": "stdout",
     "output_type": "stream",
     "text": [
      "Refreshing the buffer!\n"
     ]
    },
    {
     "name": "stderr",
     "output_type": "stream",
     "text": [
      "100%|██████████| 64/64 [00:11<00:00,  5.70it/s]\n",
      "  7%|▋         | 6401/97656 [1:07:05<11:25:00,  2.22it/s]"
     ]
    },
    {
     "name": "stdout",
     "output_type": "stream",
     "text": [
      "{'loss': 1134.3121337890625, 'l2_loss': 694.576904296875, 'l1_loss_shared': 215.84075927734375, 'l1_loss_exclusive': 2.013422727584839, 'l0_loss': 65.71012878417969, 'l1_coeff': 2, 'lr': 5e-05, 'explained_variance': 0.7552666664123535, 'explained_variance_A': 0.7585352659225464, 'explained_variance_B': 0.7516956329345703}\n"
     ]
    },
    {
     "name": "stderr",
     "output_type": "stream",
     "text": [
      "  7%|▋         | 6425/97656 [1:07:16<11:24:25,  2.22it/s]"
     ]
    },
    {
     "name": "stdout",
     "output_type": "stream",
     "text": [
      "Refreshing the buffer!\n"
     ]
    },
    {
     "name": "stderr",
     "output_type": "stream",
     "text": [
      "100%|██████████| 64/64 [00:11<00:00,  5.71it/s]\n",
      "  7%|▋         | 6488/97656 [1:07:55<11:23:57,  2.22it/s]"
     ]
    },
    {
     "name": "stdout",
     "output_type": "stream",
     "text": [
      "Refreshing the buffer!\n"
     ]
    },
    {
     "name": "stderr",
     "output_type": "stream",
     "text": [
      "100%|██████████| 64/64 [00:11<00:00,  5.71it/s]\n",
      "  7%|▋         | 6501/97656 [1:08:12<12:35:15,  2.01it/s]"
     ]
    },
    {
     "name": "stdout",
     "output_type": "stream",
     "text": [
      "{'loss': 1124.2198486328125, 'l2_loss': 687.2658081054688, 'l1_loss_shared': 214.09317016601562, 'l1_loss_exclusive': 2.1919374465942383, 'l0_loss': 64.61759948730469, 'l1_coeff': 2, 'lr': 5e-05, 'explained_variance': 0.7565298676490784, 'explained_variance_A': 0.7598422765731812, 'explained_variance_B': 0.753028154373169}\n"
     ]
    },
    {
     "name": "stderr",
     "output_type": "stream",
     "text": [
      "  7%|▋         | 6551/97656 [1:08:35<11:23:21,  2.22it/s]"
     ]
    },
    {
     "name": "stdout",
     "output_type": "stream",
     "text": [
      "Refreshing the buffer!\n"
     ]
    },
    {
     "name": "stderr",
     "output_type": "stream",
     "text": [
      "100%|██████████| 64/64 [00:11<00:00,  5.73it/s]\n",
      "  7%|▋         | 6601/97656 [1:09:09<11:23:25,  2.22it/s]"
     ]
    },
    {
     "name": "stdout",
     "output_type": "stream",
     "text": [
      "{'loss': 1120.2769775390625, 'l2_loss': 686.669921875, 'l1_loss_shared': 212.6953582763672, 'l1_loss_exclusive': 2.054077625274658, 'l0_loss': 63.15226364135742, 'l1_coeff': 2, 'lr': 5e-05, 'explained_variance': 0.7557169198989868, 'explained_variance_A': 0.7589988708496094, 'explained_variance_B': 0.7523077130317688}\n"
     ]
    },
    {
     "name": "stderr",
     "output_type": "stream",
     "text": [
      "  7%|▋         | 6614/97656 [1:09:14<11:22:43,  2.22it/s]"
     ]
    },
    {
     "name": "stdout",
     "output_type": "stream",
     "text": [
      "Refreshing the buffer!\n"
     ]
    },
    {
     "name": "stderr",
     "output_type": "stream",
     "text": [
      "100%|██████████| 64/64 [00:11<00:00,  5.72it/s]\n",
      "  7%|▋         | 6677/97656 [1:09:54<11:23:31,  2.22it/s]"
     ]
    },
    {
     "name": "stdout",
     "output_type": "stream",
     "text": [
      "Refreshing the buffer!\n"
     ]
    },
    {
     "name": "stderr",
     "output_type": "stream",
     "text": [
      "100%|██████████| 64/64 [00:11<00:00,  5.72it/s]\n",
      "  7%|▋         | 6701/97656 [1:10:16<11:24:11,  2.22it/s]"
     ]
    },
    {
     "name": "stdout",
     "output_type": "stream",
     "text": [
      "{'loss': 1116.44287109375, 'l2_loss': 681.8749389648438, 'l1_loss_shared': 213.26138305664062, 'l1_loss_exclusive': 2.0112814903259277, 'l0_loss': 62.37890625, 'l1_coeff': 2, 'lr': 5e-05, 'explained_variance': 0.7579413652420044, 'explained_variance_A': 0.7615017294883728, 'explained_variance_B': 0.7543178796768188}\n"
     ]
    },
    {
     "name": "stderr",
     "output_type": "stream",
     "text": [
      "  7%|▋         | 6740/97656 [1:10:34<11:21:44,  2.22it/s]"
     ]
    },
    {
     "name": "stdout",
     "output_type": "stream",
     "text": [
      "Refreshing the buffer!\n"
     ]
    },
    {
     "name": "stderr",
     "output_type": "stream",
     "text": [
      "100%|██████████| 64/64 [00:11<00:00,  5.72it/s]\n",
      "  7%|▋         | 6801/97656 [1:11:12<11:22:02,  2.22it/s]"
     ]
    },
    {
     "name": "stdout",
     "output_type": "stream",
     "text": [
      "{'loss': 1128.531494140625, 'l2_loss': 694.3782348632812, 'l1_loss_shared': 213.14109802246094, 'l1_loss_exclusive': 1.9677767753601074, 'l0_loss': 61.934326171875, 'l1_coeff': 2, 'lr': 5e-05, 'explained_variance': 0.7557749152183533, 'explained_variance_A': 0.7592130303382874, 'explained_variance_B': 0.7522009611129761}\n"
     ]
    },
    {
     "name": "stderr",
     "output_type": "stream",
     "text": [
      "  7%|▋         | 6803/97656 [1:11:13<11:21:38,  2.22it/s]"
     ]
    },
    {
     "name": "stdout",
     "output_type": "stream",
     "text": [
      "Refreshing the buffer!\n"
     ]
    },
    {
     "name": "stderr",
     "output_type": "stream",
     "text": [
      "100%|██████████| 64/64 [00:11<00:00,  5.68it/s]\n",
      "  7%|▋         | 6866/97656 [1:11:53<11:20:53,  2.22it/s]"
     ]
    },
    {
     "name": "stdout",
     "output_type": "stream",
     "text": [
      "Refreshing the buffer!\n"
     ]
    },
    {
     "name": "stderr",
     "output_type": "stream",
     "text": [
      "100%|██████████| 64/64 [00:11<00:00,  5.70it/s]\n",
      "  7%|▋         | 6901/97656 [1:12:20<11:21:22,  2.22it/s]"
     ]
    },
    {
     "name": "stdout",
     "output_type": "stream",
     "text": [
      "{'loss': 1119.7159423828125, 'l2_loss': 688.353759765625, 'l1_loss_shared': 211.89654541015625, 'l1_loss_exclusive': 1.8922687768936157, 'l0_loss': 60.75048828125, 'l1_coeff': 2, 'lr': 5e-05, 'explained_variance': 0.757355809211731, 'explained_variance_A': 0.7606098651885986, 'explained_variance_B': 0.754114031791687}\n"
     ]
    },
    {
     "name": "stderr",
     "output_type": "stream",
     "text": [
      "  7%|▋         | 6929/97656 [1:12:33<11:20:31,  2.22it/s]"
     ]
    },
    {
     "name": "stdout",
     "output_type": "stream",
     "text": [
      "Refreshing the buffer!\n"
     ]
    },
    {
     "name": "stderr",
     "output_type": "stream",
     "text": [
      "100%|██████████| 64/64 [00:11<00:00,  5.70it/s]\n",
      "  7%|▋         | 6992/97656 [1:13:12<11:20:07,  2.22it/s]"
     ]
    },
    {
     "name": "stdout",
     "output_type": "stream",
     "text": [
      "Refreshing the buffer!\n"
     ]
    },
    {
     "name": "stderr",
     "output_type": "stream",
     "text": [
      "100%|██████████| 64/64 [00:11<00:00,  5.73it/s]\n",
      "  7%|▋         | 7001/97656 [1:13:28<16:14:10,  1.55it/s]"
     ]
    },
    {
     "name": "stdout",
     "output_type": "stream",
     "text": [
      "{'loss': 1107.5601806640625, 'l2_loss': 679.8617553710938, 'l1_loss_shared': 209.89080810546875, 'l1_loss_exclusive': 1.9792044162750244, 'l0_loss': 59.52824020385742, 'l1_coeff': 2, 'lr': 5e-05, 'explained_variance': 0.7582451105117798, 'explained_variance_A': 0.7616722583770752, 'explained_variance_B': 0.7547255158424377}\n"
     ]
    },
    {
     "name": "stderr",
     "output_type": "stream",
     "text": [
      "  7%|▋         | 7055/97656 [1:13:52<11:19:38,  2.22it/s]"
     ]
    },
    {
     "name": "stdout",
     "output_type": "stream",
     "text": [
      "Refreshing the buffer!\n"
     ]
    },
    {
     "name": "stderr",
     "output_type": "stream",
     "text": [
      "100%|██████████| 64/64 [00:11<00:00,  5.75it/s]\n",
      "  7%|▋         | 7101/97656 [1:14:24<11:19:31,  2.22it/s]"
     ]
    },
    {
     "name": "stdout",
     "output_type": "stream",
     "text": [
      "{'loss': 1121.871826171875, 'l2_loss': 690.51025390625, 'l1_loss_shared': 211.96966552734375, 'l1_loss_exclusive': 1.855574607849121, 'l0_loss': 59.697837829589844, 'l1_coeff': 2, 'lr': 5e-05, 'explained_variance': 0.7570440173149109, 'explained_variance_A': 0.7605718374252319, 'explained_variance_B': 0.7534897923469543}\n"
     ]
    },
    {
     "name": "stderr",
     "output_type": "stream",
     "text": [
      "  7%|▋         | 7118/97656 [1:14:31<11:19:11,  2.22it/s]"
     ]
    },
    {
     "name": "stdout",
     "output_type": "stream",
     "text": [
      "Refreshing the buffer!\n"
     ]
    },
    {
     "name": "stderr",
     "output_type": "stream",
     "text": [
      "100%|██████████| 64/64 [00:11<00:00,  5.71it/s]\n",
      "  7%|▋         | 7181/97656 [1:15:11<11:18:46,  2.22it/s]"
     ]
    },
    {
     "name": "stdout",
     "output_type": "stream",
     "text": [
      "Refreshing the buffer!\n"
     ]
    },
    {
     "name": "stderr",
     "output_type": "stream",
     "text": [
      "100%|██████████| 64/64 [00:11<00:00,  5.73it/s]\n",
      "  7%|▋         | 7201/97656 [1:15:31<11:24:44,  2.20it/s]"
     ]
    },
    {
     "name": "stdout",
     "output_type": "stream",
     "text": [
      "{'loss': 1113.839599609375, 'l2_loss': 682.7769775390625, 'l1_loss_shared': 211.58416748046875, 'l1_loss_exclusive': 1.9735727310180664, 'l0_loss': 58.784507751464844, 'l1_coeff': 2, 'lr': 5e-05, 'explained_variance': 0.7590906023979187, 'explained_variance_A': 0.7625985741615295, 'explained_variance_B': 0.7555444240570068}\n"
     ]
    },
    {
     "name": "stderr",
     "output_type": "stream",
     "text": [
      "  7%|▋         | 7244/97656 [1:15:51<11:18:27,  2.22it/s]"
     ]
    },
    {
     "name": "stdout",
     "output_type": "stream",
     "text": [
      "Refreshing the buffer!\n"
     ]
    },
    {
     "name": "stderr",
     "output_type": "stream",
     "text": [
      "100%|██████████| 64/64 [00:11<00:00,  5.69it/s]\n",
      "  7%|▋         | 7301/97656 [1:16:28<11:18:26,  2.22it/s]"
     ]
    },
    {
     "name": "stdout",
     "output_type": "stream",
     "text": [
      "{'loss': 1115.8682861328125, 'l2_loss': 689.6749877929688, 'l1_loss_shared': 209.310302734375, 'l1_loss_exclusive': 1.8931591510772705, 'l0_loss': 57.548667907714844, 'l1_coeff': 2, 'lr': 5e-05, 'explained_variance': 0.7567301392555237, 'explained_variance_A': 0.7602802515029907, 'explained_variance_B': 0.7529585361480713}\n"
     ]
    },
    {
     "name": "stderr",
     "output_type": "stream",
     "text": [
      "  7%|▋         | 7307/97656 [1:16:30<11:17:52,  2.22it/s]"
     ]
    },
    {
     "name": "stdout",
     "output_type": "stream",
     "text": [
      "Refreshing the buffer!\n"
     ]
    },
    {
     "name": "stderr",
     "output_type": "stream",
     "text": [
      "100%|██████████| 64/64 [00:11<00:00,  5.70it/s]\n",
      "  8%|▊         | 7370/97656 [1:17:10<11:17:18,  2.22it/s]"
     ]
    },
    {
     "name": "stdout",
     "output_type": "stream",
     "text": [
      "Refreshing the buffer!\n"
     ]
    },
    {
     "name": "stderr",
     "output_type": "stream",
     "text": [
      "100%|██████████| 64/64 [00:11<00:00,  5.74it/s]\n",
      "  8%|▊         | 7401/97656 [1:17:35<11:17:33,  2.22it/s]"
     ]
    },
    {
     "name": "stdout",
     "output_type": "stream",
     "text": [
      "{'loss': 1111.989990234375, 'l2_loss': 684.314208984375, 'l1_loss_shared': 210.21847534179688, 'l1_loss_exclusive': 1.8096790313720703, 'l0_loss': 57.376060485839844, 'l1_coeff': 2, 'lr': 5e-05, 'explained_variance': 0.7578688859939575, 'explained_variance_A': 0.7610183954238892, 'explained_variance_B': 0.7546144723892212}\n"
     ]
    },
    {
     "name": "stderr",
     "output_type": "stream",
     "text": [
      "  8%|▊         | 7433/97656 [1:17:50<11:16:52,  2.22it/s]"
     ]
    },
    {
     "name": "stdout",
     "output_type": "stream",
     "text": [
      "Refreshing the buffer!\n"
     ]
    },
    {
     "name": "stderr",
     "output_type": "stream",
     "text": [
      "100%|██████████| 64/64 [00:11<00:00,  5.72it/s]\n",
      "  8%|▊         | 7496/97656 [1:18:29<11:16:27,  2.22it/s]"
     ]
    },
    {
     "name": "stdout",
     "output_type": "stream",
     "text": [
      "Refreshing the buffer!\n"
     ]
    },
    {
     "name": "stderr",
     "output_type": "stream",
     "text": [
      "100%|██████████| 64/64 [00:11<00:00,  5.70it/s]\n",
      "  8%|▊         | 7501/97656 [1:18:43<31:37:46,  1.26s/it]"
     ]
    },
    {
     "name": "stdout",
     "output_type": "stream",
     "text": [
      "{'loss': 1106.343017578125, 'l2_loss': 682.0810546875, 'l1_loss_shared': 208.41299438476562, 'l1_loss_exclusive': 1.8589985370635986, 'l0_loss': 56.59489059448242, 'l1_coeff': 2, 'lr': 5e-05, 'explained_variance': 0.7586222887039185, 'explained_variance_A': 0.7626338005065918, 'explained_variance_B': 0.7546418905258179}\n"
     ]
    },
    {
     "name": "stderr",
     "output_type": "stream",
     "text": [
      "  8%|▊         | 7559/97656 [1:19:09<11:15:54,  2.22it/s]"
     ]
    },
    {
     "name": "stdout",
     "output_type": "stream",
     "text": [
      "Refreshing the buffer!\n"
     ]
    },
    {
     "name": "stderr",
     "output_type": "stream",
     "text": [
      "100%|██████████| 64/64 [00:11<00:00,  5.72it/s]\n",
      "  8%|▊         | 7601/97656 [1:19:39<11:16:32,  2.22it/s]"
     ]
    },
    {
     "name": "stdout",
     "output_type": "stream",
     "text": [
      "{'loss': 1102.138427734375, 'l2_loss': 678.3690185546875, 'l1_loss_shared': 208.36618041992188, 'l1_loss_exclusive': 1.759285569190979, 'l0_loss': 55.78727340698242, 'l1_coeff': 2, 'lr': 5e-05, 'explained_variance': 0.7590243816375732, 'explained_variance_A': 0.762826681137085, 'explained_variance_B': 0.7552613019943237}\n"
     ]
    },
    {
     "name": "stderr",
     "output_type": "stream",
     "text": [
      "  8%|▊         | 7622/97656 [1:19:48<11:15:47,  2.22it/s]"
     ]
    },
    {
     "name": "stdout",
     "output_type": "stream",
     "text": [
      "Refreshing the buffer!\n"
     ]
    },
    {
     "name": "stderr",
     "output_type": "stream",
     "text": [
      "100%|██████████| 64/64 [00:11<00:00,  5.70it/s]\n",
      "  8%|▊         | 7685/97656 [1:20:28<11:14:53,  2.22it/s]"
     ]
    },
    {
     "name": "stdout",
     "output_type": "stream",
     "text": [
      "Refreshing the buffer!\n"
     ]
    },
    {
     "name": "stderr",
     "output_type": "stream",
     "text": [
      "100%|██████████| 64/64 [00:11<00:00,  5.70it/s]\n",
      "  8%|▊         | 7701/97656 [1:20:47<11:39:48,  2.14it/s]"
     ]
    },
    {
     "name": "stdout",
     "output_type": "stream",
     "text": [
      "{'loss': 1102.4525146484375, 'l2_loss': 681.2633666992188, 'l1_loss_shared': 206.97662353515625, 'l1_loss_exclusive': 1.8089967966079712, 'l0_loss': 55.25431442260742, 'l1_coeff': 2, 'lr': 5e-05, 'explained_variance': 0.7580879926681519, 'explained_variance_A': 0.7614408731460571, 'explained_variance_B': 0.7545557022094727}\n"
     ]
    },
    {
     "name": "stderr",
     "output_type": "stream",
     "text": [
      "  8%|▊         | 7748/97656 [1:21:08<11:15:00,  2.22it/s]"
     ]
    },
    {
     "name": "stdout",
     "output_type": "stream",
     "text": [
      "Refreshing the buffer!\n"
     ]
    },
    {
     "name": "stderr",
     "output_type": "stream",
     "text": [
      "100%|██████████| 64/64 [00:11<00:00,  5.71it/s]\n",
      "  8%|▊         | 7801/97656 [1:21:43<11:14:44,  2.22it/s]"
     ]
    },
    {
     "name": "stdout",
     "output_type": "stream",
     "text": [
      "{'loss': 1103.0025634765625, 'l2_loss': 682.878662109375, 'l1_loss_shared': 206.24801635742188, 'l1_loss_exclusive': 1.9069582223892212, 'l0_loss': 54.646240234375, 'l1_coeff': 2, 'lr': 5e-05, 'explained_variance': 0.7578020095825195, 'explained_variance_A': 0.7606790065765381, 'explained_variance_B': 0.7547875642776489}\n"
     ]
    },
    {
     "name": "stderr",
     "output_type": "stream",
     "text": [
      "  8%|▊         | 7811/97656 [1:21:47<11:14:09,  2.22it/s]"
     ]
    },
    {
     "name": "stdout",
     "output_type": "stream",
     "text": [
      "Refreshing the buffer!\n"
     ]
    },
    {
     "name": "stderr",
     "output_type": "stream",
     "text": [
      "100%|██████████| 64/64 [00:11<00:00,  5.70it/s]\n",
      "  8%|▊         | 7874/97656 [1:22:27<11:13:21,  2.22it/s]"
     ]
    },
    {
     "name": "stdout",
     "output_type": "stream",
     "text": [
      "Refreshing the buffer!\n"
     ]
    },
    {
     "name": "stderr",
     "output_type": "stream",
     "text": [
      "100%|██████████| 64/64 [00:11<00:00,  5.67it/s]\n",
      "  8%|▊         | 7901/97656 [1:22:51<11:14:12,  2.22it/s]"
     ]
    },
    {
     "name": "stdout",
     "output_type": "stream",
     "text": [
      "{'loss': 1102.1361083984375, 'l2_loss': 681.32568359375, 'l1_loss_shared': 206.69696044921875, 'l1_loss_exclusive': 1.8541395664215088, 'l0_loss': 54.15673828125, 'l1_coeff': 2, 'lr': 5e-05, 'explained_variance': 0.7592910528182983, 'explained_variance_A': 0.7626062631607056, 'explained_variance_B': 0.7558289170265198}\n"
     ]
    },
    {
     "name": "stderr",
     "output_type": "stream",
     "text": [
      "  8%|▊         | 7937/97656 [1:23:07<11:13:02,  2.22it/s]"
     ]
    },
    {
     "name": "stdout",
     "output_type": "stream",
     "text": [
      "Refreshing the buffer!\n"
     ]
    },
    {
     "name": "stderr",
     "output_type": "stream",
     "text": [
      "100%|██████████| 64/64 [00:11<00:00,  5.71it/s]\n",
      "  8%|▊         | 8000/97656 [1:23:46<11:12:38,  2.22it/s]"
     ]
    },
    {
     "name": "stdout",
     "output_type": "stream",
     "text": [
      "Refreshing the buffer!\n"
     ]
    },
    {
     "name": "stderr",
     "output_type": "stream",
     "text": [
      "100%|██████████| 64/64 [00:11<00:00,  5.71it/s]\n",
      "  8%|▊         | 8001/97656 [1:23:58<95:28:03,  3.83s/it]"
     ]
    },
    {
     "name": "stdout",
     "output_type": "stream",
     "text": [
      "{'loss': 1100.183349609375, 'l2_loss': 681.0416259765625, 'l1_loss_shared': 205.88890075683594, 'l1_loss_exclusive': 1.8409873247146606, 'l0_loss': 53.52116012573242, 'l1_coeff': 2, 'lr': 5e-05, 'explained_variance': 0.7586251497268677, 'explained_variance_A': 0.7616507411003113, 'explained_variance_B': 0.7554321885108948}\n"
     ]
    },
    {
     "name": "stderr",
     "output_type": "stream",
     "text": [
      "  8%|▊         | 8063/97656 [1:24:26<11:12:25,  2.22it/s]"
     ]
    },
    {
     "name": "stdout",
     "output_type": "stream",
     "text": [
      "Refreshing the buffer!\n"
     ]
    },
    {
     "name": "stderr",
     "output_type": "stream",
     "text": [
      "100%|██████████| 64/64 [00:11<00:00,  5.72it/s]\n",
      "  8%|▊         | 8101/97656 [1:24:54<11:12:18,  2.22it/s]"
     ]
    },
    {
     "name": "stdout",
     "output_type": "stream",
     "text": [
      "{'loss': 1101.2701416015625, 'l2_loss': 681.33056640625, 'l1_loss_shared': 206.47628784179688, 'l1_loss_exclusive': 1.746743083000183, 'l0_loss': 53.149658203125, 'l1_coeff': 2, 'lr': 5e-05, 'explained_variance': 0.7600528597831726, 'explained_variance_A': 0.7638068795204163, 'explained_variance_B': 0.7562867403030396}\n"
     ]
    },
    {
     "name": "stderr",
     "output_type": "stream",
     "text": [
      "  8%|▊         | 8126/97656 [1:25:06<11:11:37,  2.22it/s]"
     ]
    },
    {
     "name": "stdout",
     "output_type": "stream",
     "text": [
      "Refreshing the buffer!\n"
     ]
    },
    {
     "name": "stderr",
     "output_type": "stream",
     "text": [
      "100%|██████████| 64/64 [00:11<00:00,  5.67it/s]\n",
      "  8%|▊         | 8189/97656 [1:25:45<11:11:07,  2.22it/s]"
     ]
    },
    {
     "name": "stdout",
     "output_type": "stream",
     "text": [
      "Refreshing the buffer!\n"
     ]
    },
    {
     "name": "stderr",
     "output_type": "stream",
     "text": [
      "100%|██████████| 64/64 [00:11<00:00,  5.71it/s]\n",
      "  8%|▊         | 8201/97656 [1:26:02<12:51:32,  1.93it/s]"
     ]
    },
    {
     "name": "stdout",
     "output_type": "stream",
     "text": [
      "{'loss': 1096.1260986328125, 'l2_loss': 677.1754760742188, 'l1_loss_shared': 205.88137817382812, 'l1_loss_exclusive': 1.7969790697097778, 'l0_loss': 52.586669921875, 'l1_coeff': 2, 'lr': 5e-05, 'explained_variance': 0.7602227926254272, 'explained_variance_A': 0.76363205909729, 'explained_variance_B': 0.7568196654319763}\n"
     ]
    },
    {
     "name": "stderr",
     "output_type": "stream",
     "text": [
      "  8%|▊         | 8252/97656 [1:26:25<11:10:46,  2.22it/s]"
     ]
    },
    {
     "name": "stdout",
     "output_type": "stream",
     "text": [
      "Refreshing the buffer!\n"
     ]
    },
    {
     "name": "stderr",
     "output_type": "stream",
     "text": [
      "100%|██████████| 64/64 [00:11<00:00,  5.70it/s]\n",
      "  9%|▊         | 8301/97656 [1:26:58<11:10:41,  2.22it/s]"
     ]
    },
    {
     "name": "stdout",
     "output_type": "stream",
     "text": [
      "{'loss': 1095.810791015625, 'l2_loss': 679.4976806640625, 'l1_loss_shared': 204.7488555908203, 'l1_loss_exclusive': 1.703857660293579, 'l0_loss': 52.123130798339844, 'l1_coeff': 2, 'lr': 5e-05, 'explained_variance': 0.7588108777999878, 'explained_variance_A': 0.7621545791625977, 'explained_variance_B': 0.7555603981018066}\n"
     ]
    },
    {
     "name": "stderr",
     "output_type": "stream",
     "text": [
      "  9%|▊         | 8315/97656 [1:27:05<11:10:17,  2.22it/s]"
     ]
    },
    {
     "name": "stdout",
     "output_type": "stream",
     "text": [
      "Refreshing the buffer!\n"
     ]
    },
    {
     "name": "stderr",
     "output_type": "stream",
     "text": [
      "100%|██████████| 64/64 [00:11<00:00,  5.68it/s]\n",
      "  9%|▊         | 8378/97656 [1:27:44<11:09:57,  2.22it/s]"
     ]
    },
    {
     "name": "stdout",
     "output_type": "stream",
     "text": [
      "Refreshing the buffer!\n"
     ]
    },
    {
     "name": "stderr",
     "output_type": "stream",
     "text": [
      "100%|██████████| 64/64 [00:11<00:00,  5.68it/s]\n",
      "  9%|▊         | 8401/97656 [1:28:06<11:11:58,  2.21it/s]"
     ]
    },
    {
     "name": "stdout",
     "output_type": "stream",
     "text": [
      "{'loss': 1084.926513671875, 'l2_loss': 670.0162963867188, 'l1_loss_shared': 203.99871826171875, 'l1_loss_exclusive': 1.7282001972198486, 'l0_loss': 51.475181579589844, 'l1_coeff': 2, 'lr': 5e-05, 'explained_variance': 0.7608932256698608, 'explained_variance_A': 0.7642610669136047, 'explained_variance_B': 0.7574309706687927}\n"
     ]
    },
    {
     "name": "stderr",
     "output_type": "stream",
     "text": [
      "  9%|▊         | 8441/97656 [1:28:24<11:09:20,  2.22it/s]"
     ]
    },
    {
     "name": "stdout",
     "output_type": "stream",
     "text": [
      "Refreshing the buffer!\n"
     ]
    },
    {
     "name": "stderr",
     "output_type": "stream",
     "text": [
      "100%|██████████| 64/64 [00:11<00:00,  5.71it/s]\n",
      "  9%|▊         | 8501/97656 [1:29:02<11:09:17,  2.22it/s]"
     ]
    },
    {
     "name": "stdout",
     "output_type": "stream",
     "text": [
      "{'loss': 1091.70703125, 'l2_loss': 676.957275390625, 'l1_loss_shared': 203.78005981445312, 'l1_loss_exclusive': 1.79741632938385, 'l0_loss': 50.92594528198242, 'l1_coeff': 2, 'lr': 5e-05, 'explained_variance': 0.7608165740966797, 'explained_variance_A': 0.7643684148788452, 'explained_variance_B': 0.7571628093719482}\n"
     ]
    },
    {
     "name": "stderr",
     "output_type": "stream",
     "text": [
      "  9%|▊         | 8504/97656 [1:29:04<11:08:55,  2.22it/s]"
     ]
    },
    {
     "name": "stdout",
     "output_type": "stream",
     "text": [
      "Refreshing the buffer!\n"
     ]
    },
    {
     "name": "stderr",
     "output_type": "stream",
     "text": [
      "100%|██████████| 64/64 [00:11<00:00,  5.66it/s]\n",
      "  9%|▉         | 8567/97656 [1:29:43<11:08:23,  2.22it/s]"
     ]
    },
    {
     "name": "stdout",
     "output_type": "stream",
     "text": [
      "Refreshing the buffer!\n"
     ]
    },
    {
     "name": "stderr",
     "output_type": "stream",
     "text": [
      "100%|██████████| 64/64 [00:11<00:00,  5.71it/s]\n",
      "  9%|▉         | 8601/97656 [1:30:10<11:08:34,  2.22it/s]"
     ]
    },
    {
     "name": "stdout",
     "output_type": "stream",
     "text": [
      "{'loss': 1086.959716796875, 'l2_loss': 672.2574462890625, 'l1_loss_shared': 203.9375457763672, 'l1_loss_exclusive': 1.7067930698394775, 'l0_loss': 50.451499938964844, 'l1_coeff': 2, 'lr': 5e-05, 'explained_variance': 0.7609636783599854, 'explained_variance_A': 0.763979434967041, 'explained_variance_B': 0.7578495740890503}\n"
     ]
    },
    {
     "name": "stderr",
     "output_type": "stream",
     "text": [
      "  9%|▉         | 8630/97656 [1:30:23<11:08:20,  2.22it/s]"
     ]
    },
    {
     "name": "stdout",
     "output_type": "stream",
     "text": [
      "Refreshing the buffer!\n"
     ]
    },
    {
     "name": "stderr",
     "output_type": "stream",
     "text": [
      "100%|██████████| 64/64 [00:11<00:00,  5.71it/s]\n",
      "  9%|▉         | 8693/97656 [1:31:03<11:07:31,  2.22it/s]"
     ]
    },
    {
     "name": "stdout",
     "output_type": "stream",
     "text": [
      "Refreshing the buffer!\n"
     ]
    },
    {
     "name": "stderr",
     "output_type": "stream",
     "text": [
      "100%|██████████| 64/64 [00:11<00:00,  5.68it/s]\n",
      "  9%|▉         | 8701/97656 [1:31:18<18:02:40,  1.37it/s]"
     ]
    },
    {
     "name": "stdout",
     "output_type": "stream",
     "text": [
      "{'loss': 1083.9949951171875, 'l2_loss': 669.8116455078125, 'l1_loss_shared': 203.71939086914062, 'l1_loss_exclusive': 1.686116099357605, 'l0_loss': 50.216552734375, 'l1_coeff': 2, 'lr': 5e-05, 'explained_variance': 0.7613443732261658, 'explained_variance_A': 0.7646981477737427, 'explained_variance_B': 0.7577586770057678}\n"
     ]
    },
    {
     "name": "stderr",
     "output_type": "stream",
     "text": [
      "  9%|▉         | 8756/97656 [1:31:42<11:07:07,  2.22it/s]"
     ]
    },
    {
     "name": "stdout",
     "output_type": "stream",
     "text": [
      "Refreshing the buffer!\n"
     ]
    },
    {
     "name": "stderr",
     "output_type": "stream",
     "text": [
      "100%|██████████| 64/64 [00:11<00:00,  5.68it/s]\n",
      "  9%|▉         | 8801/97656 [1:32:14<11:07:01,  2.22it/s]"
     ]
    },
    {
     "name": "stdout",
     "output_type": "stream",
     "text": [
      "{'loss': 1087.679443359375, 'l2_loss': 674.0093994140625, 'l1_loss_shared': 203.36581420898438, 'l1_loss_exclusive': 1.734614372253418, 'l0_loss': 49.810630798339844, 'l1_coeff': 2, 'lr': 5e-05, 'explained_variance': 0.7611733675003052, 'explained_variance_A': 0.7645604610443115, 'explained_variance_B': 0.7575867176055908}\n"
     ]
    },
    {
     "name": "stderr",
     "output_type": "stream",
     "text": [
      "  9%|▉         | 8819/97656 [1:32:22<11:06:21,  2.22it/s]"
     ]
    },
    {
     "name": "stdout",
     "output_type": "stream",
     "text": [
      "Refreshing the buffer!\n"
     ]
    },
    {
     "name": "stderr",
     "output_type": "stream",
     "text": [
      "100%|██████████| 64/64 [00:11<00:00,  5.71it/s]\n",
      "  9%|▉         | 8882/97656 [1:33:02<11:06:03,  2.22it/s]"
     ]
    },
    {
     "name": "stdout",
     "output_type": "stream",
     "text": [
      "Refreshing the buffer!\n"
     ]
    },
    {
     "name": "stderr",
     "output_type": "stream",
     "text": [
      "100%|██████████| 64/64 [00:11<00:00,  5.67it/s]\n",
      "  9%|▉         | 8901/97656 [1:33:22<11:14:34,  2.19it/s]"
     ]
    },
    {
     "name": "stdout",
     "output_type": "stream",
     "text": [
      "{'loss': 1077.9078369140625, 'l2_loss': 665.194091796875, 'l1_loss_shared': 202.95849609375, 'l1_loss_exclusive': 1.6992021799087524, 'l0_loss': 49.19482421875, 'l1_coeff': 2, 'lr': 5e-05, 'explained_variance': 0.7636167407035828, 'explained_variance_A': 0.7673737406730652, 'explained_variance_B': 0.7597898244857788}\n"
     ]
    },
    {
     "name": "stderr",
     "output_type": "stream",
     "text": [
      "  9%|▉         | 8945/97656 [1:33:42<11:05:40,  2.22it/s]"
     ]
    },
    {
     "name": "stdout",
     "output_type": "stream",
     "text": [
      "Refreshing the buffer!\n"
     ]
    },
    {
     "name": "stderr",
     "output_type": "stream",
     "text": [
      "100%|██████████| 64/64 [00:11<00:00,  5.74it/s]\n",
      "  9%|▉         | 9000/97656 [1:34:19<24:39:43,  1.00s/it]"
     ]
    },
    {
     "name": "stdout",
     "output_type": "stream",
     "text": [
      "Saved as version 2 in checkpoints/version_3\n"
     ]
    },
    {
     "name": "stderr",
     "output_type": "stream",
     "text": [
      "  9%|▉         | 9001/97656 [1:34:20<20:50:39,  1.18it/s]"
     ]
    },
    {
     "name": "stdout",
     "output_type": "stream",
     "text": [
      "{'loss': 1084.8402099609375, 'l2_loss': 672.0255126953125, 'l1_loss_shared': 202.98654174804688, 'l1_loss_exclusive': 1.710423231124878, 'l0_loss': 48.94425582885742, 'l1_coeff': 2, 'lr': 5e-05, 'explained_variance': 0.7626941204071045, 'explained_variance_A': 0.7662493586540222, 'explained_variance_B': 0.7589976787567139}\n"
     ]
    },
    {
     "name": "stderr",
     "output_type": "stream",
     "text": [
      "  9%|▉         | 9008/97656 [1:34:23<11:53:16,  2.07it/s]"
     ]
    },
    {
     "name": "stdout",
     "output_type": "stream",
     "text": [
      "Refreshing the buffer!\n"
     ]
    },
    {
     "name": "stderr",
     "output_type": "stream",
     "text": [
      "100%|██████████| 64/64 [00:11<00:00,  5.71it/s]\n",
      "  9%|▉         | 9071/97656 [1:35:03<11:04:32,  2.22it/s]"
     ]
    },
    {
     "name": "stdout",
     "output_type": "stream",
     "text": [
      "Refreshing the buffer!\n"
     ]
    },
    {
     "name": "stderr",
     "output_type": "stream",
     "text": [
      "100%|██████████| 64/64 [00:11<00:00,  5.66it/s]\n",
      "  9%|▉         | 9101/97656 [1:35:27<11:05:05,  2.22it/s]"
     ]
    },
    {
     "name": "stdout",
     "output_type": "stream",
     "text": [
      "{'loss': 1086.354736328125, 'l2_loss': 672.7840576171875, 'l1_loss_shared': 203.48745727539062, 'l1_loss_exclusive': 1.6489174365997314, 'l0_loss': 48.771812438964844, 'l1_coeff': 2, 'lr': 5e-05, 'explained_variance': 0.7627713680267334, 'explained_variance_A': 0.7664495706558228, 'explained_variance_B': 0.7590591907501221}\n"
     ]
    },
    {
     "name": "stderr",
     "output_type": "stream",
     "text": [
      "  9%|▉         | 9134/97656 [1:35:42<11:04:05,  2.22it/s]"
     ]
    },
    {
     "name": "stdout",
     "output_type": "stream",
     "text": [
      "Refreshing the buffer!\n"
     ]
    },
    {
     "name": "stderr",
     "output_type": "stream",
     "text": [
      "100%|██████████| 64/64 [00:11<00:00,  5.69it/s]\n",
      "  9%|▉         | 9197/97656 [1:36:22<11:03:35,  2.22it/s]"
     ]
    },
    {
     "name": "stdout",
     "output_type": "stream",
     "text": [
      "Refreshing the buffer!\n"
     ]
    },
    {
     "name": "stderr",
     "output_type": "stream",
     "text": [
      "100%|██████████| 64/64 [00:11<00:00,  5.71it/s]\n",
      "  9%|▉         | 9201/97656 [1:36:35<39:35:54,  1.61s/it]"
     ]
    },
    {
     "name": "stdout",
     "output_type": "stream",
     "text": [
      "{'loss': 1083.81396484375, 'l2_loss': 671.794189453125, 'l1_loss_shared': 202.77908325195312, 'l1_loss_exclusive': 1.6154098510742188, 'l0_loss': 48.485595703125, 'l1_coeff': 2, 'lr': 5e-05, 'explained_variance': 0.7627798318862915, 'explained_variance_A': 0.765976071357727, 'explained_variance_B': 0.7595199942588806}\n"
     ]
    },
    {
     "name": "stderr",
     "output_type": "stream",
     "text": [
      "  9%|▉         | 9260/97656 [1:37:02<11:03:19,  2.22it/s]"
     ]
    },
    {
     "name": "stdout",
     "output_type": "stream",
     "text": [
      "Refreshing the buffer!\n"
     ]
    },
    {
     "name": "stderr",
     "output_type": "stream",
     "text": [
      "100%|██████████| 64/64 [00:11<00:00,  5.66it/s]\n",
      " 10%|▉         | 9301/97656 [1:37:32<11:03:24,  2.22it/s]"
     ]
    },
    {
     "name": "stdout",
     "output_type": "stream",
     "text": [
      "{'loss': 1074.3056640625, 'l2_loss': 665.6773071289062, 'l1_loss_shared': 201.25082397460938, 'l1_loss_exclusive': 1.5316824913024902, 'l0_loss': 47.81364059448242, 'l1_coeff': 2, 'lr': 5e-05, 'explained_variance': 0.7627615332603455, 'explained_variance_A': 0.7658632397651672, 'explained_variance_B': 0.7595009207725525}\n"
     ]
    },
    {
     "name": "stderr",
     "output_type": "stream",
     "text": [
      " 10%|▉         | 9323/97656 [1:37:41<11:02:45,  2.22it/s]"
     ]
    },
    {
     "name": "stdout",
     "output_type": "stream",
     "text": [
      "Refreshing the buffer!\n"
     ]
    },
    {
     "name": "stderr",
     "output_type": "stream",
     "text": [
      "100%|██████████| 64/64 [00:11<00:00,  5.70it/s]\n",
      " 10%|▉         | 9386/97656 [1:38:21<11:02:19,  2.22it/s]"
     ]
    },
    {
     "name": "stdout",
     "output_type": "stream",
     "text": [
      "Refreshing the buffer!\n"
     ]
    },
    {
     "name": "stderr",
     "output_type": "stream",
     "text": [
      "100%|██████████| 64/64 [00:11<00:00,  5.71it/s]\n",
      " 10%|▉         | 9401/97656 [1:38:39<11:36:31,  2.11it/s]"
     ]
    },
    {
     "name": "stdout",
     "output_type": "stream",
     "text": [
      "{'loss': 1072.6673583984375, 'l2_loss': 663.8275146484375, 'l1_loss_shared': 201.2110137939453, 'l1_loss_exclusive': 1.6044615507125854, 'l0_loss': 47.263755798339844, 'l1_coeff': 2, 'lr': 5e-05, 'explained_variance': 0.7641897201538086, 'explained_variance_A': 0.7679286003112793, 'explained_variance_B': 0.7602827548980713}\n"
     ]
    },
    {
     "name": "stderr",
     "output_type": "stream",
     "text": [
      " 10%|▉         | 9449/97656 [1:39:01<11:01:38,  2.22it/s]"
     ]
    },
    {
     "name": "stdout",
     "output_type": "stream",
     "text": [
      "Refreshing the buffer!\n"
     ]
    },
    {
     "name": "stderr",
     "output_type": "stream",
     "text": [
      "100%|██████████| 64/64 [00:11<00:00,  5.69it/s]\n",
      " 10%|▉         | 9501/97656 [1:39:35<11:01:57,  2.22it/s]"
     ]
    },
    {
     "name": "stdout",
     "output_type": "stream",
     "text": [
      "{'loss': 1085.867919921875, 'l2_loss': 675.8045654296875, 'l1_loss_shared': 202.02978515625, 'l1_loss_exclusive': 1.5009334087371826, 'l0_loss': 47.53751754760742, 'l1_coeff': 2, 'lr': 5e-05, 'explained_variance': 0.7616074085235596, 'explained_variance_A': 0.7655620574951172, 'explained_variance_B': 0.7576333284378052}\n"
     ]
    },
    {
     "name": "stderr",
     "output_type": "stream",
     "text": [
      " 10%|▉         | 9512/97656 [1:39:40<11:01:10,  2.22it/s]"
     ]
    },
    {
     "name": "stdout",
     "output_type": "stream",
     "text": [
      "Refreshing the buffer!\n"
     ]
    },
    {
     "name": "stderr",
     "output_type": "stream",
     "text": [
      "100%|██████████| 64/64 [00:11<00:00,  5.71it/s]\n"
     ]
    }
   ],
   "source": [
    "all_tokens = load_pile_lmsys_mixed_tokens()\n",
    "\n",
    "default_cfg = {\n",
    "    \"seed\": 49,\n",
    "    \"batch_size\": 4096,\n",
    "    \"buffer_mult\": 128,\n",
    "    \"eta\": 1.5, # controls relative weight of exclusive vs shared latents\n",
    "    \"lr\": 5e-5,\n",
    "    \"num_tokens\": 400_000_000,\n",
    "    \"l1_coeff\": 2,\n",
    "    \"beta1\": 0.9,\n",
    "    \"beta2\": 0.999,\n",
    "    \"d_in\": base_model.cfg.d_model,\n",
    "    \"dict_size\": 2**14,\n",
    "    \"seq_len\": 1024,\n",
    "    \"enc_dtype\": \"fp32\",\n",
    "    \"model_name\": \"gemma-2-2b\",\n",
    "    \"site\": \"resid_pre\",\n",
    "    \"device\": \"cuda:0\",\n",
    "    \"model_batch_size\": 4,\n",
    "    \"log_every\": 100,\n",
    "    \"save_every\": 3000,\n",
    "    \"dec_init_norm\": 0.08,\n",
    "    \"hook_point\": \"blocks.14.hook_resid_pre\",\n",
    "    \"wandb_project\": \"a\",\n",
    "    \"wandb_entity\": \"santiago-aranguri-reg-new-york-university\",\n",
    "}\n",
    "cfg = arg_parse_update_cfg(default_cfg)\n",
    "\n",
    "trainer = Trainer(cfg, base_model, chat_model, all_tokens)\n",
    "trainer.train()"
   ]
  },
  {
   "cell_type": "code",
   "execution_count": null,
   "metadata": {},
   "outputs": [
    {
     "data": {
      "text/plain": [
       "['__class__',\n",
       " '__delattr__',\n",
       " '__dict__',\n",
       " '__dir__',\n",
       " '__doc__',\n",
       " '__eq__',\n",
       " '__format__',\n",
       " '__ge__',\n",
       " '__getattribute__',\n",
       " '__getstate__',\n",
       " '__gt__',\n",
       " '__hash__',\n",
       " '__init__',\n",
       " '__init_subclass__',\n",
       " '__le__',\n",
       " '__lt__',\n",
       " '__module__',\n",
       " '__ne__',\n",
       " '__new__',\n",
       " '__reduce__',\n",
       " '__reduce_ex__',\n",
       " '__repr__',\n",
       " '__setattr__',\n",
       " '__sizeof__',\n",
       " '__str__',\n",
       " '__subclasshook__',\n",
       " '__weakref__',\n",
       " 'buffer',\n",
       " 'cfg',\n",
       " 'crosscoder',\n",
       " 'get_l1_coeff',\n",
       " 'log',\n",
       " 'lr_lambda',\n",
       " 'model_A',\n",
       " 'model_B',\n",
       " 'optimizer',\n",
       " 'save',\n",
       " 'scheduler',\n",
       " 'step',\n",
       " 'step_counter',\n",
       " 'total_steps',\n",
       " 'train']"
      ]
     },
     "execution_count": 4,
     "metadata": {},
     "output_type": "execute_result"
    }
   ],
   "source": [
    "dir(trainer)"
   ]
  }
 ],
 "metadata": {
  "kernelspec": {
   "display_name": "py5",
   "language": "python",
   "name": "python3"
  },
  "language_info": {
   "codemirror_mode": {
    "name": "ipython",
    "version": 3
   },
   "file_extension": ".py",
   "mimetype": "text/x-python",
   "name": "python",
   "nbconvert_exporter": "python",
   "pygments_lexer": "ipython3",
   "version": "3.11.11"
  }
 },
 "nbformat": 4,
 "nbformat_minor": 2
}
